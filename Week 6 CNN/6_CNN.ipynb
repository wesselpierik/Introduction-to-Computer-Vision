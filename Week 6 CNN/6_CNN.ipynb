{
 "cells": [
  {
   "cell_type": "markdown",
   "metadata": {},
   "source": [
    "# ICV INF CNN for Classification of Small Images (CIFAR 10 dataset)"
   ]
  },
  {
   "cell_type": "markdown",
   "metadata": {
    "toc": true
   },
   "source": [
    "<h1>Table of Contents<span class=\"tocSkip\"></span></h1>\n",
    "<div class=\"toc\"><ul class=\"toc-item\"><li><span><a href=\"#Loading-Images-from-Data-Set\" data-toc-modified-id=\"Loading-Images-from-Data-Set-1\"><span class=\"toc-item-num\">1&nbsp;&nbsp;</span>Loading Images from Data Set</a></span></li><li><span><a href=\"#Define-a-Convolutional-Neural-Network\" data-toc-modified-id=\"Define-a-Convolutional-Neural-Network-2\"><span class=\"toc-item-num\">2&nbsp;&nbsp;</span>Define a Convolutional Neural Network</a></span></li><li><span><a href=\"#Training-the-Network\" data-toc-modified-id=\"Training-the-Network-3\"><span class=\"toc-item-num\">3&nbsp;&nbsp;</span>Training the Network</a></span></li><li><span><a href=\"#Testing-the-Network\" data-toc-modified-id=\"Testing-the-Network-4\"><span class=\"toc-item-num\">4&nbsp;&nbsp;</span>Testing the Network</a></span></li><li><span><a href=\"#Improving-the-Network\" data-toc-modified-id=\"Improving-the-Network-5\"><span class=\"toc-item-num\">5&nbsp;&nbsp;</span>Improving the Network</a></span></li></ul></div>"
   ]
  },
  {
   "cell_type": "markdown",
   "metadata": {},
   "source": [
    "This notebook is an adaptation of a demo notebook in the Pytorch documentation. Please be patient while running the code in the notebook. I haven't used any GPU that might be available on your computer. Training two epochs on my computer takes more than a minute (yes not too fast...).\n",
    "\n",
    "In order to run the code you need to install pytorch on your system. The modules `torch` and `torchvision` should be installed. See the [PyTorch](https://pytorch.org/) website how to install Pytorch on your machine.\n",
    "\n",
    "The [PyTorch](https://pytorch.org/) website is invaluable for understanding the code in this notebook. And it is a great source for further exploration of modern Machine Learning."
   ]
  },
  {
   "cell_type": "code",
   "execution_count": 1,
   "metadata": {},
   "outputs": [],
   "source": [
    "import torch\n",
    "import torchvision\n",
    "import torchvision.transforms as transforms\n",
    "import torch.nn as nn\n",
    "import torch.nn.functional as F\n",
    "import torch.optim as optim\n",
    "\n",
    "import matplotlib.pyplot as plt\n",
    "import numpy as np"
   ]
  },
  {
   "cell_type": "code",
   "execution_count": 2,
   "metadata": {},
   "outputs": [
    {
     "name": "stdout",
     "output_type": "stream",
     "text": [
      "CPU used\n"
     ]
    }
   ],
   "source": [
    "device = None; \n",
    "# device = torch.device('cpu') # uncomment this line to explicitly set the device\n",
    "if device == None:\n",
    "    if torch.cuda.is_available():\n",
    "        print(\"CUDA used\")\n",
    "        device = torch.device('cuda')\n",
    "    else:\n",
    "        print(\"CPU used\")\n",
    "        device = torch.device('cpu')"
   ]
  },
  {
   "cell_type": "markdown",
   "metadata": {},
   "source": [
    "## Loading Images from the Data Set"
   ]
  },
  {
   "cell_type": "markdown",
   "metadata": {},
   "source": [
    "PyTorch has some well known data sets 'build in', among others the CIFAR data set. In the code below we download (if needed) and read in the data set. In the process of defining the train and test set PyTorch allows us to transform the images on the fly. In this case we only convert the image to a tensor (the basic PyTorch data structure comparable with the ndarray in numpy) and we normalize the image (by subtracting 0.5 from each rgb value in the image and dividing by 0.5, as each image has rgb values in the range from 0 to 1 we end up with values in the range from -1 to +1). Normalization of the data is important in any neural network."
   ]
  },
  {
   "cell_type": "markdown",
   "metadata": {},
   "source": [
    "PyTorch loads a dataset into separate train and test sets. First we define the trainset."
   ]
  },
  {
   "cell_type": "code",
   "execution_count": 3,
   "metadata": {},
   "outputs": [
    {
     "name": "stdout",
     "output_type": "stream",
     "text": [
      "Files already downloaded and verified\n",
      "Dataset CIFAR10\n",
      "    Number of datapoints: 50000\n",
      "    Root location: ./data\n",
      "    Split: Train\n",
      "    StandardTransform\n",
      "Transform: Compose(\n",
      "               ToTensor()\n",
      "               Normalize(mean=(0.5, 0.5, 0.5), std=(0.5, 0.5, 0.5))\n",
      "           )\n"
     ]
    }
   ],
   "source": [
    "# Uncomment the following lines if you get a SSL certificate error to disable the verification.\n",
    "# import ssl\n",
    "# ssl._create_default_https_context = ssl._create_unverified_context (edited) \n",
    "\n",
    "transform = transforms.Compose([\n",
    "    transforms.ToTensor(),\n",
    "    transforms.Normalize((0.5, 0.5, 0.5), (0.5, 0.5, 0.5))\n",
    "])\n",
    "trainset = torchvision.datasets.CIFAR10(root='./data', \n",
    "                                        train=True, \n",
    "                                        download=True, \n",
    "                                        transform=transform)\n",
    "print(trainset)"
   ]
  },
  {
   "cell_type": "markdown",
   "metadata": {},
   "source": [
    "The trainset has an attribute ``data`` that contains the entire datamatrix in a numpy array."
   ]
  },
  {
   "cell_type": "code",
   "execution_count": 4,
   "metadata": {},
   "outputs": [
    {
     "data": {
      "text/plain": [
       "(50000, 32, 32, 3)"
      ]
     },
     "execution_count": 4,
     "metadata": {},
     "output_type": "execute_result"
    }
   ],
   "source": [
    "trainset.data.shape"
   ]
  },
  {
   "cell_type": "markdown",
   "metadata": {},
   "source": [
    "i.e. 50000 images of 32x32 pixels each with an R, G and B value."
   ]
  },
  {
   "cell_type": "markdown",
   "metadata": {},
   "source": [
    "Also the labels are encoded in a simple Python list"
   ]
  },
  {
   "cell_type": "code",
   "execution_count": 5,
   "metadata": {},
   "outputs": [
    {
     "data": {
      "text/plain": [
       "50000"
      ]
     },
     "execution_count": 5,
     "metadata": {},
     "output_type": "execute_result"
    }
   ],
   "source": [
    "len(trainset.targets)"
   ]
  },
  {
   "cell_type": "markdown",
   "metadata": {},
   "source": [
    "The target values are indices from 0 to 9 and the corresponding class names are encoded in the following list:"
   ]
  },
  {
   "cell_type": "code",
   "execution_count": 6,
   "metadata": {},
   "outputs": [
    {
     "name": "stdout",
     "output_type": "stream",
     "text": [
      "['airplane', 'automobile', 'bird', 'cat', 'deer', 'dog', 'frog', 'horse', 'ship', 'truck']\n"
     ]
    }
   ],
   "source": [
    "classnames = trainset.classes\n",
    "print(classnames)"
   ]
  },
  {
   "cell_type": "markdown",
   "metadata": {},
   "source": [
    "In pure Python/Numpy we can now display one of the images with the target class name as title for the plot:"
   ]
  },
  {
   "cell_type": "code",
   "execution_count": 7,
   "metadata": {},
   "outputs": [
    {
     "data": {
      "image/png": "[encoded data removed]",
      "text/plain": [
       "<Figure size 432x288 with 1 Axes>"
      ]
     },
     "metadata": {
      "needs_background": "light"
     },
     "output_type": "display_data"
    }
   ],
   "source": [
    "i = 66\n",
    "plt.imshow(trainset.data[i])\n",
    "plt.axis('off')\n",
    "plt.title(classnames[trainset.targets[i]]);"
   ]
  },
  {
   "cell_type": "markdown",
   "metadata": {},
   "source": [
    "Later on we will define a ``DataLoader`` that makes it easy to load a small number of (image, target) tuples (a batch) needed in one gradient descent step in the stochastic gradient learning process. While loading the data the data in the dataset is transformed on the fly. For this dataset two transforms are used in sequence. First the ``ToTensor`` transform that takes an HxWxC (with C=3) numpy array into a PyTorch tensor of shape CxHxW which is the standard for encoding color images in deep learning. The second transform in the sequence is a normalization (see the PyTorch documentation for ``torchvision.transforms.Normalize``)."
   ]
  },
  {
   "cell_type": "markdown",
   "metadata": {},
   "source": [
    "<span style=\"color:red\">**Question 1.1**</span>.\n",
    "\n",
    "Given the normalization ``Normalize((0.5, 0.5, 0.5), (0.5, 0.5, 0.5))`` and an original color value (r,g,b) what is the normalized color value (r',g',b')? What do all those values 0.5 represent?"
   ]
  },
  {
   "cell_type": "markdown",
   "metadata": {},
   "source": [
    "<span style=\"color:Green\">\n",
    "    \n",
    "**Answer**\n",
    "\n",
    "The Normalization function normalizes all of the channels to the given mean and standard deviation. Since there are three channels, there should be three seperate values for the mean and standard deviation of each channel.\n",
    "This function call will normalize each of the channels to a mean and standard deviation of 0.5\n",
    "\n",
    "The function used is $r' = \\frac{r - \\mu_r}{\\sigma_r}$\n",
    "</span>"
   ]
  },
  {
   "cell_type": "markdown",
   "metadata": {},
   "source": [
    "In the same way we define and load the testset:"
   ]
  },
  {
   "cell_type": "code",
   "execution_count": 8,
   "metadata": {},
   "outputs": [
    {
     "name": "stdout",
     "output_type": "stream",
     "text": [
      "Files already downloaded and verified\n"
     ]
    }
   ],
   "source": [
    "testset = torchvision.datasets.CIFAR10(root='./data', \n",
    "                                       train=False, \n",
    "                                       download=True, \n",
    "                                       transform=transform)"
   ]
  },
  {
   "cell_type": "markdown",
   "metadata": {},
   "source": [
    "Then we define a DataLoader for both the train and testset. When defining a DataLoader we have to give the `batch_size` as argument for the class constructor. A DataLoader, being a Python iterable, makes it possible to retrieve batch_size arbitrary images from the data set."
   ]
  },
  {
   "cell_type": "code",
   "execution_count": 9,
   "metadata": {},
   "outputs": [],
   "source": [
    "batch_size = 4\n",
    "trainloader = torch.utils.data.DataLoader(trainset, \n",
    "                                          batch_size=batch_size, \n",
    "                                          shuffle=True, \n",
    "                                          num_workers=2)\n",
    "testloader = torch.utils.data.DataLoader(testset, \n",
    "                                         batch_size=batch_size, \n",
    "                                         shuffle=False, \n",
    "                                         num_workers=2)"
   ]
  },
  {
   "cell_type": "markdown",
   "metadata": {},
   "source": [
    "## Displaying Tensor Images"
   ]
  },
  {
   "cell_type": "markdown",
   "metadata": {},
   "source": [
    "For displaying 'tensor images' we provide two helper functions:"
   ]
  },
  {
   "cell_type": "code",
   "execution_count": 10,
   "metadata": {},
   "outputs": [
    {
     "data": {
      "image/png": "[encoded data removed]",
      "text/plain": [
       "<Figure size 1152x288 with 4 Axes>"
      ]
     },
     "metadata": {
      "needs_background": "light"
     },
     "output_type": "display_data"
    }
   ],
   "source": [
    "def imshow(img, ax=None):\n",
    "    \"\"\"imshow for Tensor Images obtained with a DataLoader\n",
    "    from a data set. The images are of shape (3,M,N)\n",
    "    and are in the range from -1 to +1\"\"\"\n",
    "    img = (img - img.min()) / (img.max()-img.min())     # unnormalize\n",
    "    npimg = img.numpy()\n",
    "    if ax==None:\n",
    "        plt.imshow(np.transpose(npimg, (1, 2, 0)))\n",
    "    else:\n",
    "        ax.imshow(np.transpose(npimg, (1, 2, 0)))\n",
    "        \n",
    "def imtable(imgs, titles, ncols, hsize=4, vsize=4):\n",
    "    nrows = int(np.ceil(len(imgs)/ncols))\n",
    "    fig, axs = plt.subplots(nrows, ncols, figsize=(ncols*hsize, nrows*vsize))\n",
    "    r, c = 0, 0\n",
    "    for i, (im, label) in enumerate(zip(imgs, titles)):\n",
    "        if nrows==1:\n",
    "            ax = axs[c]\n",
    "        elif ncols==1:\n",
    "            ax = axs[r]\n",
    "        else:\n",
    "            ax = axs[r,c]\n",
    "        imshow(im, ax=ax)\n",
    "        ax.set_title(titles[i])\n",
    "        ax.axis('off')\n",
    "        c += 1\n",
    "        if c == ncols:\n",
    "            r += 1\n",
    "            c = 0\n",
    "    plt.tight_layout()\n",
    "        \n",
    "# get some random training images\n",
    "dataiter = iter(trainloader)\n",
    "images, labels = next(dataiter)\n",
    "imtable(images, [classnames[i] for i in labels], 4)\n"
   ]
  },
  {
   "cell_type": "markdown",
   "metadata": {},
   "source": [
    "<span style=\"color:red\">**Question 1.2**</span>.\n",
    "\n",
    "If you would be random guessing the class of an image what would be the expected accuracy of the 'classifier'?"
   ]
  },
  {
   "cell_type": "markdown",
   "metadata": {},
   "source": [
    "<span style=\"color:Green\">\n",
    "    \n",
    "**Answer**\n",
    "    \n",
    "Since there are 10 classes, you have a 1 in 10 chance to correctly guess the class, so the expected accuracy is 10%.\n",
    "</span>"
   ]
  },
  {
   "cell_type": "markdown",
   "metadata": {},
   "source": [
    "## Define a Convolutional Neural Network"
   ]
  },
  {
   "cell_type": "markdown",
   "metadata": {},
   "source": [
    "We define the following CNN to classify the CIFAR images. Observe that first the functional processing blocks in the CNN are instantiated in the ``__init__`` function and then used in the ``forward`` method implementing the forward pass from input to output of the network.\n",
    "\n",
    "The backpropagation pass to calculate the derivatives of the loss with respect to the data throughout the network is automagically done by PyTorch. Only when you as a programmer introduce new functional processing blocks you have to implement the backward pass yourself."
   ]
  },
  {
   "cell_type": "code",
   "execution_count": 38,
   "metadata": {},
   "outputs": [],
   "source": [
    "class Net(nn.Module):\n",
    "    def __init__(self, verbose=0):\n",
    "        super().__init__()\n",
    "        self.conv1 = nn.Conv2d(3, 20, 3)\n",
    "        self.pool1 = nn.MaxPool2d(2, 2)\n",
    "        self.conv2 = nn.Conv2d(20, 16, 5)\n",
    "        self.pool2 = nn.MaxPool2d(2, 2)\n",
    "        self.fc1 = nn.Linear(16 * 5 * 5, 120)\n",
    "        self.fc2 = nn.Linear(120, 84)\n",
    "        self.fc3 = nn.Linear(84, 10)\n",
    "        self.verbose = verbose\n",
    "        \n",
    "    def forward(self, x):\n",
    "        # Note in the forward pass we have 'numbered'\n",
    "        # the x's just to make it easier to collect\n",
    "        # the code to print information about the network\n",
    "        # further on in the code.\n",
    "        x1a = self.conv1(x)\n",
    "        x1 = self.pool1(F.relu(x1a))\n",
    "        x2 = self.pool2(F.relu(self.conv2(x1)))\n",
    "        x3 = torch.flatten(x2, 1) # flatten all dimensions except batch\n",
    "        x4 = F.relu(self.fc1(x3))\n",
    "        x5 = F.relu(self.fc2(x4))\n",
    "        x6 = self.fc3(x5)\n",
    "            \n",
    "        if self.verbose:\n",
    "            # Write the code to print the properties of the \n",
    "            # different stages in the CNN\n",
    "            # Your code here\n",
    "            self.verbose -= 1\n",
    "        \n",
    "        return x6\n",
    "\n",
    "# with verbose=1 the 'debugging' code is printed only once \n",
    "# while running the forward pass multiple times.\n",
    "net = Net(verbose=1).to(device=device)"
   ]
  },
  {
   "cell_type": "markdown",
   "metadata": {},
   "source": [
    "Given the class definition for a network we can print an instantiation of that class to obtain an overview of the functional processing blocks that are defined. Note that the ``relu`` and ``flatten`` functions are not printed (but they are in the flow of processing blocks)."
   ]
  },
  {
   "cell_type": "code",
   "execution_count": 39,
   "metadata": {},
   "outputs": [
    {
     "name": "stdout",
     "output_type": "stream",
     "text": [
      "Net(\n",
      "  (conv1): Conv2d(3, 20, kernel_size=(3, 3), stride=(1, 1))\n",
      "  (pool1): MaxPool2d(kernel_size=2, stride=2, padding=0, dilation=1, ceil_mode=False)\n",
      "  (conv2): Conv2d(20, 16, kernel_size=(5, 5), stride=(1, 1))\n",
      "  (pool2): MaxPool2d(kernel_size=2, stride=2, padding=0, dilation=1, ceil_mode=False)\n",
      "  (fc1): Linear(in_features=400, out_features=120, bias=True)\n",
      "  (fc2): Linear(in_features=120, out_features=84, bias=True)\n",
      "  (fc3): Linear(in_features=84, out_features=10, bias=True)\n",
      ")\n"
     ]
    }
   ],
   "source": [
    "print(net)"
   ]
  },
  {
   "cell_type": "markdown",
   "metadata": {},
   "source": [
    "Note that the shapes of the data that is processed at all layers in the network is not printed. That is where we need 'your code' in the ``Net`` class.\n",
    "\n",
    "The code below sets the verbose attribute of the ``Net`` instantiation to 1 and then feeds it a batch of images. The output is printed, which is not needed of course as it will be total nonsense as nothing is learned yet.\n",
    "\n",
    "It should be noted that PyTorch automagically takes care of proper initialization of the parameters of each of the processing modules in the network. If you want to you can override the default initialization (read the docs for that)."
   ]
  },
  {
   "cell_type": "code",
   "execution_count": 40,
   "metadata": {},
   "outputs": [
    {
     "name": "stdout",
     "output_type": "stream",
     "text": [
      "tensor([[ 0.0962, -0.0003,  0.0246, -0.0268, -0.0614, -0.1049,  0.0920, -0.1373,\n",
      "          0.0399,  0.0490],\n",
      "        [ 0.0898, -0.0014,  0.0247, -0.0291, -0.0646, -0.1027,  0.0887, -0.1338,\n",
      "          0.0362,  0.0473],\n",
      "        [ 0.0859, -0.0091,  0.0114, -0.0286, -0.0590, -0.1013,  0.0891, -0.1438,\n",
      "          0.0256,  0.0501],\n",
      "        [ 0.1055, -0.0036,  0.0263, -0.0340, -0.0630, -0.1022,  0.0944, -0.1287,\n",
      "          0.0321,  0.0443]], grad_fn=<AddmmBackward0>)\n"
     ]
    }
   ],
   "source": [
    "net.verbose=1 # when you run it you should set this to 1\n",
    "images, labels = next(dataiter)\n",
    "images = images.to(device)\n",
    "labels = labels.to(device)\n",
    "outputs = net(images)\n",
    "print(outputs)"
   ]
  },
  {
   "cell_type": "markdown",
   "metadata": {},
   "source": [
    "With the printed information you ought to be able to answer the following questions:"
   ]
  },
  {
   "cell_type": "markdown",
   "metadata": {},
   "source": [
    "In a data graph the first part of this network looks like\n",
    "<img src=\"https://rvdboomgaard.github.io/ComputerVision_LectureNotes/_static/cifar_cnn_incomplete.png\"\n",
    "     width=80%\n",
    "     alt=\"data flow graph\"\n",
    "     style=\"float: center;\" />\n",
    "\n",
    "The CIFAR images are 32x32 color images, so $W_1 = H_1 = 32$ and $C_1 = 3$. \n",
    "\n",
    "Observe that in this common way to depict a CNN the blocks that are drawn corresponds with the data, the arrows correspond with the data processing modules. E.g. the first arrow corresponds with the sequence Conv1 --> ReLU --> Maxpool modules. \n",
    "\n",
    "The last data block in this CNN is a vector of 10 elements where each element equals the activation for one of the 10 classes. This last layer is obtained with a fully connected neural network from the layer before that which is also a vector but with 84 elements.\n",
    "\n",
    "Note that if you want to know what the data shape is after just the first or second convolution you have to change the code in the ``forward`` method."
   ]
  },
  {
   "cell_type": "markdown",
   "metadata": {},
   "source": [
    "<span style=\"color:red\">**Question 2.1**</span>\n",
    "\n",
    "If you print the shape of tensor ``x`` in the ``forward`` method you will get ``torch.Size([4, 3, 32, 32])``. Why is the first dimension of size 4 in this tensor? Note that this size is NOT depicted in the above graph!"
   ]
  },
  {
   "cell_type": "markdown",
   "metadata": {},
   "source": [
    "<span style=\"color:Green\">\n",
    "    \n",
    "**Answer**\n",
    "    \n",
    "The first dimension is the number of images in a batch. Since the batch size is set to 4 when defining the network, the first dimension of the tensor is equal to size 4.\n",
    "</span>"
   ]
  },
  {
   "cell_type": "markdown",
   "metadata": {},
   "source": [
    "<span style=\"color:red\">**Question 2.2**</span>\n",
    "\n",
    "What is the shape of the tensor that results from ``conv1(x)``? What does it tell you about the convolution/correlation algorithm that is used? To find this experimentally you have to change the code in the ``forward`` method."
   ]
  },
  {
   "cell_type": "markdown",
   "metadata": {},
   "source": [
    "<span style=\"color:Green\">\n",
    "    \n",
    "**Answer**\n",
    "    \n",
    "[4, 10, 28, 28]. This means that the kernel used is a 5x5 kernel. Since the kernel only returns the pixels where the kernel is completely defined in the original image. And since the kernel is 5x5, it removes 2 pixels of each side of the image. \n",
    "</span>"
   ]
  },
  {
   "cell_type": "markdown",
   "metadata": {},
   "source": [
    "<span style=\"color:red\">**Question 2.3**</span>\n",
    "\n",
    "Complete the data graph. For each of data block (image blocks at the start and flattened arrays at the end) you should indicate the shape of the block. The blocks correspond with the tensors `x`, `x1` ... `x6` in the `forward` method. Either you should look into the documentation of the processing modules that are being used in the `__init__` function or you should run the code and print the shapes (when we are running/training the network)."
   ]
  },
  {
   "cell_type": "markdown",
   "metadata": {},
   "source": [
    "<span style=\"color:Green\">\n",
    "    \n",
    "**Answer**\n",
    "    \n",
    "![CNN question 2.3.png](CNN question 2.3.png)\n",
    "</span>"
   ]
  },
  {
   "cell_type": "markdown",
   "metadata": {},
   "source": [
    "<span style=\"color:red\">**Question 2.4**</span>\n",
    "\n",
    "In the `__init__` function the following processing modules are defined: `conv1`, `pool1`, `conv2`, `pool2`, `fc1`, `fc2` and `fc3`. Indicate where these modules are used in your data flow graph (i.e. you have to label the arrows in the graph with the (sequence of) operations associated with each arrow."
   ]
  },
  {
   "cell_type": "markdown",
   "metadata": {},
   "source": [
    "<span style=\"color:Green\">\n",
    "    \n",
    "**Answer**\n",
    "    \n",
    "    \n",
    "</span>"
   ]
  },
  {
   "cell_type": "markdown",
   "metadata": {},
   "source": [
    "<span style=\"color:red\">**Question 2.5**</span>\n",
    "\n",
    "For each of processing modules `conv1`, `pool1`, `conv2`, `pool2`, `fc1`, `fc2` and `fc3` give the number of parameters that have to be learned (don't forget the bias parameters...)"
   ]
  },
  {
   "cell_type": "markdown",
   "metadata": {},
   "source": [
    "<span style=\"color:Green\">\n",
    "    \n",
    "**Answer**\n",
    "    \n",
    "63910\n",
    "</span>"
   ]
  },
  {
   "cell_type": "markdown",
   "metadata": {},
   "source": [
    "**HINT**: The answer to question 2.5 can be computed by 'interrogating' the network. For instance for the `fc2` linear module we get:"
   ]
  },
  {
   "cell_type": "markdown",
   "metadata": {},
   "source": [
    "The answer to the last question from the above cell can be computed by 'interrogating' the network. For instance for the `fc2` linear module we get:"
   ]
  },
  {
   "cell_type": "code",
   "execution_count": 41,
   "metadata": {},
   "outputs": [
    {
     "name": "stdout",
     "output_type": "stream",
     "text": [
      "torch.Size([84, 120])\n",
      "torch.Size([84])\n"
     ]
    }
   ],
   "source": [
    "for p in net.fc2.parameters():\n",
    "    print(p.shape)"
   ]
  },
  {
   "cell_type": "markdown",
   "metadata": {},
   "source": [
    "So for this module there are two tensors defining the parameters. Note that an object of type `torch.Size` is not a tensor"
   ]
  },
  {
   "cell_type": "markdown",
   "metadata": {},
   "source": [
    "<span style=\"color:red\">**Question 2.6**</span>\n",
    "\n",
    "What are these tensors? (please look back in your machine learning course notes)."
   ]
  },
  {
   "cell_type": "markdown",
   "metadata": {},
   "source": [
    "<span style=\"color:Green\">\n",
    "    \n",
    "**Answer**\n",
    "    \n",
    "These tensors are the weight and bias matrices for the FC2 transition. That transition has 120 nodes as input and 84 nodes as output.\n",
    "</span>"
   ]
  },
  {
   "cell_type": "markdown",
   "metadata": {},
   "source": [
    "<span style=\"color:red\">**Question 2.7**</span>\n",
    "\n",
    "How many parameters in total for this `fc2` module?"
   ]
  },
  {
   "cell_type": "markdown",
   "metadata": {},
   "source": [
    "<span style=\"color:Green\">\n",
    "    \n",
    "**Answer**\n",
    "    \n",
    "84*120+84 = 10164\n",
    "</span>"
   ]
  },
  {
   "cell_type": "markdown",
   "metadata": {},
   "source": [
    "Below you have to write the code to calculate the total number of parameters to be learned in this network."
   ]
  },
  {
   "cell_type": "code",
   "execution_count": 42,
   "metadata": {},
   "outputs": [
    {
     "name": "stdout",
     "output_type": "stream",
     "text": [
      "67710\n"
     ]
    }
   ],
   "source": [
    "# Write the code to calculate the total number of parameters in the entire network\n",
    "n_param = 0\n",
    "for p in net.parameters():\n",
    "    n_param += p.numel()\n",
    "\n",
    "print(n_param)"
   ]
  },
  {
   "cell_type": "markdown",
   "metadata": {},
   "source": [
    "Later on in this notebook we revisit the interrogation of the network again to actually observe what parameter values are learned."
   ]
  },
  {
   "cell_type": "markdown",
   "metadata": {},
   "source": [
    "## Loss Function and Optimizer"
   ]
  },
  {
   "cell_type": "markdown",
   "metadata": {},
   "source": [
    "To train the network we also need to define a loss function:"
   ]
  },
  {
   "cell_type": "code",
   "execution_count": 43,
   "metadata": {},
   "outputs": [],
   "source": [
    "loss_criterion = nn.CrossEntropyLoss()"
   ]
  },
  {
   "cell_type": "markdown",
   "metadata": {},
   "source": [
    "When the network is fed input the output is obtained with ``outputs = net(inputs)``, then the outputs are compared with the target values (labels in our case) with the `CrossEntropyLoss` function. Read the PyTorch documentation to learn why this loss is well suited for a classification problem (and why the softmax function is not needed in this network).\n",
    "\n",
    "Observe that although the output of the network is a 10 element vector (activation for each of the different classes) the target value is an integer id for the target class. The conversion to one-hot-encoding is implicitly done within the loss function (see the source code)."
   ]
  },
  {
   "cell_type": "markdown",
   "metadata": {},
   "source": [
    "We also need an optimizer. A standard optimizer is PyTorch is the SGD (Stochastic Gradient Descent) optimizer."
   ]
  },
  {
   "cell_type": "code",
   "execution_count": 44,
   "metadata": {},
   "outputs": [],
   "source": [
    "optimizer = optim.SGD(net.parameters(), lr=0.001, momentum=0.9, dampening=0)"
   ]
  },
  {
   "cell_type": "markdown",
   "metadata": {},
   "source": [
    "here `lr` is the learning rate. The momentum is used in the gradient descent procedure to 'remember' in which direction the gradient descent is running and not deviate too easily from that direction."
   ]
  },
  {
   "cell_type": "markdown",
   "metadata": {},
   "source": [
    "<span style=\"color:red\">**Question 2.8**</span>\n",
    "\n",
    "Read the explanation of the SGD optimizer in the PyTorch documentation.\n",
    "1. Why the name **stochastic** gradient descent?\n",
    "2. What value for the ``momemtum`` and `dampening` should be chosen to get the classical gradient descent?"
   ]
  },
  {
   "cell_type": "markdown",
   "metadata": {},
   "source": [
    "<span style=\"color:Green\">\n",
    "    \n",
    "**Answer**\n",
    "    \n",
    "1. Since you only base the gradient descent on a batch of the data and not all the data, the descent is an approximation, and thus the gradient descent is stochastic.\n",
    "\n",
    "2. The classical gradient descent does not use momentum, so the value should be 0. Since the dampening only influences the momentum, which is disabled in the classical gradient descent, the value of it has no impact.\n",
    "</span>"
   ]
  },
  {
   "cell_type": "markdown",
   "metadata": {},
   "source": [
    "## Training the Network"
   ]
  },
  {
   "cell_type": "markdown",
   "metadata": {},
   "source": [
    "Training the network using a variant of the gradient descent algorithm boils down to:\n",
    "1. feed a minibatch of examples to the network\n",
    "2. run the forward pass, i.e. calculate the output through all its intermediate processing modules)\n",
    "3. set all gradients (derivative of the loss with respect to all parameters) equal to zero\n",
    "4. calculate the backward pass (to calculate all gradients\n",
    "5. for each of the parameters make a step in the right direction and adapt the parameters accordingly.\n",
    "\n",
    "This process is repeated until the minibatches have fed all examples in the training set to the learning algorithm. That completex one **epoch** in learning. Then this process is repeated until a specified number of epochs is done.\n",
    "\n",
    "In the learning process we keep track of the loss on the learning set and the loss on the test set both of which are calculated after each epoch. To have some indication whether the network is learning during an epoch we also report the loss over the last batches fed to the netword for learning.\n",
    "\n",
    "One epoch of learning is encaptured in the `train_loop` function"
   ]
  },
  {
   "cell_type": "code",
   "execution_count": 51,
   "metadata": {},
   "outputs": [],
   "source": [
    "def train_loop(dataloader, model, loss_fn, optimizer, no_report=1000, device=None):\n",
    "    size = len(dataloader.dataset)\n",
    "    batch = 0\n",
    "    for batch, (X, y) in enumerate(dataloader):\n",
    "        # Move the data to GPU (if available)\n",
    "        X = X.to(device)\n",
    "        y = y.to(device)\n",
    "        # Compute prediction and loss\n",
    "        pred = model(X)\n",
    "        loss = loss_fn(pred, y)\n",
    "\n",
    "        # Backpropagation\n",
    "        optimizer.zero_grad()\n",
    "        loss.backward()\n",
    "        optimizer.step()\n",
    "\n",
    "        if batch % no_report == 0:\n",
    "            loss, current = loss.item(), batch * len(X)\n",
    "            print(f\"loss: {loss:>7f}  [{current:>5d}/{size:>5d}]\")"
   ]
  },
  {
   "cell_type": "markdown",
   "metadata": {},
   "source": [
    "While learning for several epochs we also calculate the performance on the test or validation set. This is encoded in the function `test_loop`."
   ]
  },
  {
   "cell_type": "code",
   "execution_count": 52,
   "metadata": {},
   "outputs": [],
   "source": [
    "def test_loop(dataloader, model, loss_fn, device=None):\n",
    "    size = len(dataloader.dataset)\n",
    "    num_batches = len(dataloader)\n",
    "    test_loss, correct = 0, 0\n",
    "\n",
    "    with torch.no_grad():\n",
    "        for X, y in dataloader:\n",
    "            X = X.to(device)\n",
    "            y = y.to(device)\n",
    "            pred = model(X)\n",
    "            test_loss += loss_fn(pred, y).item()\n",
    "            correct += (pred.argmax(1) == y).type(torch.float).sum().item()\n",
    "\n",
    "    test_loss /= num_batches\n",
    "    correct /= size\n",
    "    print(f\"Test Error: \\n Accuracy: {(100*correct):>0.1f}%, Avg loss: {test_loss:>8f} \\n\")"
   ]
  },
  {
   "cell_type": "markdown",
   "metadata": {},
   "source": [
    "The learning process then becomes:"
   ]
  },
  {
   "cell_type": "code",
   "execution_count": 54,
   "metadata": {},
   "outputs": [
    {
     "name": "stdout",
     "output_type": "stream",
     "text": [
      "Epoch 1\n",
      "-------------------------------\n",
      "loss: 1.794685  [    0/50000]\n",
      "loss: 1.135965  [ 4000/50000]\n",
      "loss: 0.349920  [ 8000/50000]\n",
      "loss: 0.672944  [12000/50000]\n",
      "loss: 1.457474  [16000/50000]\n",
      "loss: 0.820537  [20000/50000]\n",
      "loss: 1.529389  [24000/50000]\n",
      "loss: 1.220170  [28000/50000]\n",
      "loss: 0.302281  [32000/50000]\n",
      "loss: 3.528342  [36000/50000]\n",
      "loss: 1.337352  [40000/50000]\n",
      "loss: 0.927591  [44000/50000]\n",
      "loss: 2.058604  [48000/50000]\n",
      "Test Error: \n",
      " Accuracy: 62.2%, Avg loss: 1.093864 \n",
      "\n",
      "Epoch 2\n",
      "-------------------------------\n",
      "loss: 1.076236  [    0/50000]\n",
      "loss: 0.802890  [ 4000/50000]\n",
      "loss: 0.970181  [ 8000/50000]\n",
      "loss: 1.126284  [12000/50000]\n",
      "loss: 0.677025  [16000/50000]\n",
      "loss: 0.498784  [20000/50000]\n",
      "loss: 0.685147  [24000/50000]\n",
      "loss: 2.846783  [28000/50000]\n",
      "loss: 0.754084  [32000/50000]\n",
      "loss: 0.102030  [36000/50000]\n",
      "loss: 0.399930  [40000/50000]\n",
      "loss: 1.084544  [44000/50000]\n",
      "loss: 1.106569  [48000/50000]\n",
      "Test Error: \n",
      " Accuracy: 63.4%, Avg loss: 1.054175 \n",
      "\n",
      "Epoch 3\n",
      "-------------------------------\n",
      "loss: 0.456544  [    0/50000]\n",
      "loss: 1.408361  [ 4000/50000]\n",
      "loss: 0.456165  [ 8000/50000]\n",
      "loss: 0.898917  [12000/50000]\n",
      "loss: 2.189822  [16000/50000]\n",
      "loss: 0.630521  [20000/50000]\n",
      "loss: 0.784947  [24000/50000]\n",
      "loss: 0.532893  [28000/50000]\n",
      "loss: 1.494241  [32000/50000]\n",
      "loss: 1.067510  [36000/50000]\n",
      "loss: 0.039667  [40000/50000]\n",
      "loss: 0.816958  [44000/50000]\n",
      "loss: 1.167251  [48000/50000]\n",
      "Test Error: \n",
      " Accuracy: 66.4%, Avg loss: 0.968724 \n",
      "\n",
      "Epoch 4\n",
      "-------------------------------\n",
      "loss: 0.975626  [    0/50000]\n",
      "loss: 0.530760  [ 4000/50000]\n",
      "loss: 0.740395  [ 8000/50000]\n",
      "loss: 0.364883  [12000/50000]\n",
      "loss: 0.434028  [16000/50000]\n",
      "loss: 0.493081  [20000/50000]\n",
      "loss: 1.570637  [24000/50000]\n",
      "loss: 0.951239  [28000/50000]\n",
      "loss: 0.426704  [32000/50000]\n",
      "loss: 1.177716  [36000/50000]\n",
      "loss: 0.248651  [40000/50000]\n",
      "loss: 0.741774  [44000/50000]\n",
      "loss: 0.971502  [48000/50000]\n",
      "Test Error: \n",
      " Accuracy: 66.1%, Avg loss: 0.990362 \n",
      "\n",
      "Epoch 5\n",
      "-------------------------------\n",
      "loss: 0.515688  [    0/50000]\n",
      "loss: 0.270701  [ 4000/50000]\n",
      "loss: 1.076581  [ 8000/50000]\n",
      "loss: 1.364516  [12000/50000]\n",
      "loss: 0.269710  [16000/50000]\n",
      "loss: 0.105793  [20000/50000]\n",
      "loss: 0.680940  [24000/50000]\n",
      "loss: 1.599882  [28000/50000]\n",
      "loss: 0.772491  [32000/50000]\n",
      "loss: 0.180087  [36000/50000]\n",
      "loss: 0.645818  [40000/50000]\n",
      "loss: 0.610778  [44000/50000]\n",
      "loss: 0.123862  [48000/50000]\n",
      "Test Error: \n",
      " Accuracy: 66.8%, Avg loss: 0.972482 \n",
      "\n",
      "Epoch 6\n",
      "-------------------------------\n",
      "loss: 1.204311  [    0/50000]\n",
      "loss: 1.253680  [ 4000/50000]\n",
      "loss: 0.672329  [ 8000/50000]\n",
      "loss: 1.335874  [12000/50000]\n",
      "loss: 1.996702  [16000/50000]\n",
      "loss: 0.977207  [20000/50000]\n",
      "loss: 0.333027  [24000/50000]\n",
      "loss: 1.496725  [28000/50000]\n",
      "loss: 0.675511  [32000/50000]\n",
      "loss: 0.470598  [36000/50000]\n",
      "loss: 0.809984  [40000/50000]\n",
      "loss: 0.569313  [44000/50000]\n",
      "loss: 0.392534  [48000/50000]\n",
      "Test Error: \n",
      " Accuracy: 66.6%, Avg loss: 0.987086 \n",
      "\n",
      "Epoch 7\n",
      "-------------------------------\n",
      "loss: 0.387649  [    0/50000]\n",
      "loss: 0.847447  [ 4000/50000]\n",
      "loss: 0.327712  [ 8000/50000]\n",
      "loss: 1.437508  [12000/50000]\n",
      "loss: 0.589898  [16000/50000]\n",
      "loss: 0.626660  [20000/50000]\n",
      "loss: 0.375322  [24000/50000]\n",
      "loss: 0.628619  [28000/50000]\n",
      "loss: 0.408349  [32000/50000]\n",
      "loss: 0.804880  [36000/50000]\n",
      "loss: 1.489807  [40000/50000]\n",
      "loss: 0.276006  [44000/50000]\n",
      "loss: 1.456970  [48000/50000]\n",
      "Test Error: \n",
      " Accuracy: 66.9%, Avg loss: 1.001209 \n",
      "\n",
      "Epoch 8\n",
      "-------------------------------\n",
      "loss: 0.094509  [    0/50000]\n",
      "loss: 0.989772  [ 4000/50000]\n",
      "loss: 0.339414  [ 8000/50000]\n",
      "loss: 1.234871  [12000/50000]\n",
      "loss: 0.239334  [16000/50000]\n",
      "loss: 1.492824  [20000/50000]\n",
      "loss: 0.242368  [24000/50000]\n",
      "loss: 1.660327  [28000/50000]\n",
      "loss: 0.005650  [32000/50000]\n",
      "loss: 0.509380  [36000/50000]\n",
      "loss: 0.163499  [40000/50000]\n",
      "loss: 0.561607  [44000/50000]\n",
      "loss: 0.362338  [48000/50000]\n",
      "Test Error: \n",
      " Accuracy: 67.3%, Avg loss: 0.982561 \n",
      "\n",
      "Epoch 9\n",
      "-------------------------------\n",
      "loss: 0.494668  [    0/50000]\n",
      "loss: 0.121412  [ 4000/50000]\n",
      "loss: 0.318673  [ 8000/50000]\n",
      "loss: 0.649063  [12000/50000]\n",
      "loss: 0.989380  [16000/50000]\n",
      "loss: 0.191549  [20000/50000]\n",
      "loss: 0.467244  [24000/50000]\n",
      "loss: 2.120546  [28000/50000]\n",
      "loss: 0.632274  [32000/50000]\n",
      "loss: 0.813524  [36000/50000]\n",
      "loss: 0.269992  [40000/50000]\n",
      "loss: 0.030706  [44000/50000]\n",
      "loss: 0.620172  [48000/50000]\n",
      "Test Error: \n",
      " Accuracy: 66.8%, Avg loss: 1.029937 \n",
      "\n",
      "Epoch 10\n",
      "-------------------------------\n",
      "loss: 0.652577  [    0/50000]\n",
      "loss: 0.718672  [ 4000/50000]\n",
      "loss: 1.168027  [ 8000/50000]\n",
      "loss: 0.814171  [12000/50000]\n",
      "loss: 1.329991  [16000/50000]\n",
      "loss: 0.209820  [20000/50000]\n",
      "loss: 1.420341  [24000/50000]\n",
      "loss: 0.722471  [28000/50000]\n",
      "loss: 0.306650  [32000/50000]\n",
      "loss: 0.438077  [36000/50000]\n",
      "loss: 0.486164  [40000/50000]\n",
      "loss: 0.239598  [44000/50000]\n",
      "loss: 0.022298  [48000/50000]\n",
      "Test Error: \n",
      " Accuracy: 67.2%, Avg loss: 1.010402 \n",
      "\n",
      "Done!\n",
      "6min 44s ± 0 ns per loop (mean ± std. dev. of 1 run, 1 loop each)\n"
     ]
    }
   ],
   "source": [
    "%%timeit -n1 -r1\n",
    "epochs = 10\n",
    "for t in range(epochs):\n",
    "    print(f\"Epoch {t+1}\\n-------------------------------\")\n",
    "    train_loop(trainloader, net, loss_criterion, optimizer, device=device)\n",
    "    test_loop(testloader, net, loss_criterion, device=device)\n",
    "print(\"Done!\")"
   ]
  },
  {
   "cell_type": "code",
   "execution_count": null,
   "metadata": {},
   "outputs": [],
   "source": [
    "# Uncomment the following 2 lines to save your network to file\n",
    "PATH = './cifar_net_100e.pth'\n",
    "torch.save(net.state_dict(), PATH)\n",
    "#\n",
    "# when saved you can load it back into memory with\n",
    "# (again uncomment the following 2 lines)\n",
    "# net = Net().to(device)\n",
    "# net.load_state_dict(torch.load(PATH))"
   ]
  },
  {
   "cell_type": "markdown",
   "metadata": {},
   "source": [
    "We load some images from the test set, display these image with their ground truth label. "
   ]
  },
  {
   "cell_type": "code",
   "execution_count": 33,
   "metadata": {},
   "outputs": [
    {
     "data": {
      "image/png": "[encoded data removed]",
      "text/plain": [
       "<Figure size 1152x288 with 4 Axes>"
      ]
     },
     "metadata": {
      "needs_background": "light"
     },
     "output_type": "display_data"
    }
   ],
   "source": [
    "dataiter = iter(testloader)\n",
    "images, labels = next(dataiter)\n",
    "imtable(images, [classnames[i] for i in labels], 4)"
   ]
  },
  {
   "cell_type": "markdown",
   "metadata": {},
   "source": [
    "Then we run these image through the network and print the outputs of the 10 output nodes for all images. Note that now we are not training the network Pytorch doesn't need to keep track of all the intermediate outputs of all modules in the network (in preparation of a backward pass) and we can tell Pytorch not to do that with `no_grad()`."
   ]
  },
  {
   "cell_type": "markdown",
   "metadata": {},
   "source": [
    "While learning we didn't use the `softmax` function (see the PyTorch documentation) that normalizes the output for the 10 classes such that the a posteriori class probability if modeled (that would not be what the loss function expects). Now we are using the network in the feed forward mode only we will apply the softmax function."
   ]
  },
  {
   "cell_type": "code",
   "execution_count": 34,
   "metadata": {},
   "outputs": [
    {
     "name": "stdout",
     "output_type": "stream",
     "text": [
      "[[1.6430590e-07 1.6679962e-07 8.6797874e-05 3.3148084e-02 2.0257354e-04\n",
      "  9.6586376e-01 2.9113810e-04 4.0720880e-04 8.9108798e-12 6.0268285e-08]\n",
      " [4.6103526e-02 6.0451849e-10 2.1353513e-11 2.5607137e-13 6.2219713e-12\n",
      "  1.7865074e-13 6.5976362e-15 1.0694360e-11 9.4190723e-01 1.1989227e-02]\n",
      " [2.0218545e-01 1.0125158e-02 2.0260056e-03 8.0274249e-04 3.2426478e-04\n",
      "  1.9476484e-04 4.3269392e-04 1.0874491e-03 3.7804070e-01 4.0478075e-01]\n",
      " [1.0000000e+00 3.5000445e-14 5.2570285e-13 3.5159953e-18 2.2875213e-15\n",
      "  2.5838244e-18 5.3545764e-23 6.1739132e-20 1.2637491e-12 5.0085683e-20]]\n"
     ]
    }
   ],
   "source": [
    "with torch.no_grad():\n",
    "    outputs = F.softmax(net(images.to(device)), dim=-1)\n",
    "npoutputs = outputs.cpu().numpy()\n",
    "print(npoutputs)"
   ]
  },
  {
   "cell_type": "markdown",
   "metadata": {},
   "source": [
    "The predicted label will be the label with the largest output value."
   ]
  },
  {
   "cell_type": "code",
   "execution_count": 35,
   "metadata": {},
   "outputs": [
    {
     "name": "stdout",
     "output_type": "stream",
     "text": [
      "True     :         cat       ship       ship   airplane\n",
      "Predicted:         dog       ship      truck   airplane\n"
     ]
    }
   ],
   "source": [
    "maxvalue, maxindex = torch.max(outputs, 1)\n",
    "print('True     : ', ' '.join('%10s' % classnames[labels[j]]\n",
    "                              for j in range(batch_size)))\n",
    "print('Predicted: ', ' '.join('%10s' % classnames[maxindex[j]]\n",
    "                              for j in range(batch_size)))"
   ]
  },
  {
   "cell_type": "markdown",
   "metadata": {},
   "source": [
    "For such a small set of test images we run into the possibility that the classification is very bad. Let's test the network more carefully."
   ]
  },
  {
   "cell_type": "markdown",
   "metadata": {},
   "source": [
    "## Inspecting the Network"
   ]
  },
  {
   "cell_type": "markdown",
   "metadata": {},
   "source": [
    "In general it is really hard to understand what a (convolutional) neural network is doing. What do the learned weights represent? The answer to that question is still largely unknown. There are several papers that describe what particular nodes in the network are responsive to. These methods are beyond the scope of a bachelor course.\n",
    "\n",
    "An exception is the first layer in a CNN. The convolutions there directly operate on the (color) image data and like we are used to in computer vision the convolution kernels (weigh functions) can be visualized as images themselves.\n",
    "\n",
    "The hypothesis in developing CNN's was that local structure in images carries the spatial information needed to interpret the images. So when visualizing the kernels from the first convolution layer we hope to see the network has learned to respond to all sorts of local structure patterns.\n",
    "\n",
    "These patterns are then in layers downwards in the datastream combined to recognize larger structures in images."
   ]
  },
  {
   "cell_type": "markdown",
   "metadata": {},
   "source": [
    "Your task is to visualize the kernels in the first convolution module `conv1` as small images."
   ]
  },
  {
   "cell_type": "code",
   "execution_count": 36,
   "metadata": {},
   "outputs": [
    {
     "data": {
      "image/png": "[encoded data removed]",
      "text/plain": [
       "<Figure size 2880x576 with 20 Axes>"
      ]
     },
     "metadata": {
      "needs_background": "light"
     },
     "output_type": "display_data"
    }
   ],
   "source": [
    "# Here the code to visualize the kernels\n",
    "W, b = net.conv1.parameters()\n",
    "W = W.detach().cpu()\n",
    "imtable(W, len(W)*[\"\"], 10)"
   ]
  },
  {
   "cell_type": "markdown",
   "metadata": {},
   "source": [
    "## Improving the Network"
   ]
  },
  {
   "cell_type": "markdown",
   "metadata": {},
   "source": [
    "Selecting a network architecture for a CNN is more of an art than a science. Simple experimenting with different number of channels, with different number of (convolution) layers can sometimes improve your network."
   ]
  },
  {
   "cell_type": "markdown",
   "metadata": {},
   "source": [
    "<span style=\"color:red\">**Question 5.1**</span>\n",
    "\n",
    "1. The obvious way to start improving your network is by training for more epochs. Only 2 epochs is really not much (but you need a fast computer or a GPU or a lot of patience). But you should be able to increase the number of epochs from 2 to 10 when you run the learning at night.\n",
    "\n",
    "1. Change the number of channels in the first data (image) block after the input image (a block with 3 channels) from 10 to 20 and train and run the network again. Does it improve the performance? Again start with 2 epochs of learning.\n",
    "\n",
    "1. Change the size of the convolution kernels in the `conv1` module from 5 to 3. Again start with 2 epochs of learning."
   ]
  },
  {
   "cell_type": "markdown",
   "metadata": {},
   "source": [
    "<span style=\"color:Green\">\n",
    "    \n",
    "**Answer**\n",
    "    \n",
    "\n",
    "Using more epochs does initially improve the network, but after too many epochs, the model starts to overfit.\n",
    "\n",
    "Extra channels does not seem to impact the results,  since it's within margin of error.\n",
    "\n",
    "Changing the size of the first convolution kernel to 3 decreases the performance of the network, but combining this with extra channels, the accuracy improves quite significantly.\n",
    "\n",
    "Combining all the improvements does increase the performance of the network the most, but also takes much longer.\n",
    "\n",
    "The baseline, with kernel size 5 and 10 channels using 2 epochs of training, achieves an accuracy of 57.3% in 1 minute and 19 seconds. Increasing the number of channels increases the accuracy with only 0.1%, while taking 1 minute and 31 seconds. Decreasing the kernel size decreases the accuracy to 55.5% while taking 1 minute and 41 seconds. Increasing the number of epochs to 10, increases the accuracy to 64.4%, but takes 7 minutes and 29 seconds. Combining all the suggested improvements increases the accuracy to 66.1%, but takes 10 minutes and 21 seconds.\n",
    "    \n",
    "</span>"
   ]
  },
  {
   "cell_type": "markdown",
   "metadata": {},
   "source": [
    "## Bonus Exercises"
   ]
  },
  {
   "cell_type": "markdown",
   "metadata": {},
   "source": [
    "- The speed of learning can be dramaticall improved by moving the entire dataset to the gpu (in case you have enough RAM on the gpu). I had a hard time to achieve that. If you can find an elegant way without the need to rewrite the data loaders i would be very interested.\n",
    "\n",
    "- When you can learn faster or have a faster machine or have more time you could learn for a lot of epochs (say 100) and then plot the loss and accuracy for both the train and test set as a function of the number of epochs. That may provide you with evidence that the network is overfitting and thus that some regularization techniques might be neededn. This is suggested by the webpages describing learning for the same dataset but then implemented in Keras/Tensorflow (see https://machinelearningmastery.com/how-to-develop-a-cnn-from-scratch-for-cifar-10-photo-classification/). There the loss and accuracy as function of the number of epochs is shown as (in yellow the testset scores and in blue the trainset scores):\n",
    "<img src=\"https://rvdboomgaard.github.io/ComputerVision_LectureNotes/_static/cifar_overfitting.png\"\n",
    "     width=50%\n",
    "     alt=\"data flow graph\"\n",
    "     style=\"float: center;\" />\n",
    "The network used was very much like the one that has been used in this lab.\n",
    "\n",
    "- In the above mentioned paper using Keras/Tensorflow the problem over overfitting was succesfully mitigated using DropOut's in the network. It would be nice to see if you can do the same for our network."
   ]
  },
  {
   "cell_type": "code",
   "execution_count": 29,
   "metadata": {},
   "outputs": [
    {
     "data": {
      "text/plain": [
       "[<matplotlib.lines.Line2D at 0x79258fa89c30>]"
      ]
     },
     "execution_count": 29,
     "metadata": {},
     "output_type": "execute_result"
    },
    {
     "data": {
      "image/png": "[encoded data removed]",
      "text/plain": [
       "<Figure size 720x720 with 2 Axes>"
      ]
     },
     "metadata": {
      "needs_background": "light"
     },
     "output_type": "display_data"
    }
   ],
   "source": [
    "# This is the figure for the baseline without dropouts\n",
    "fig = plt.figure(figsize=(10, 10))\n",
    "ax = fig.add_subplot(211)\n",
    "ax.plot(trains_loss)\n",
    "ax.plot(tests_loss)\n",
    "ax = fig.add_subplot(212)\n",
    "ax.plot(trains_accuracy)\n",
    "ax.plot(tests_accuracy)"
   ]
  },
  {
   "cell_type": "code",
   "execution_count": 37,
   "metadata": {},
   "outputs": [
    {
     "data": {
      "text/plain": [
       "[<matplotlib.lines.Line2D at 0x71d90b8a7af0>]"
      ]
     },
     "execution_count": 37,
     "metadata": {},
     "output_type": "execute_result"
    },
    {
     "data": {
      "image/png": "[encoded data removed]",
      "text/plain": [
       "<Figure size 720x720 with 2 Axes>"
      ]
     },
     "metadata": {
      "needs_background": "light"
     },
     "output_type": "display_data"
    }
   ],
   "source": [
    "# This is the graph of the baseline with a 50 perceent dropout\n",
    "fig = plt.figure(figsize=(10, 10))\n",
    "ax = fig.add_subplot(211)\n",
    "ax.plot(trains_loss)\n",
    "ax.plot(tests_loss)\n",
    "ax = fig.add_subplot(212)\n",
    "ax.plot(trains_accuracy)\n",
    "ax.plot(tests_accuracy)"
   ]
  }
 ],
 "metadata": {
  "kernelspec": {
   "display_name": "Python 3 (ipykernel)",
   "language": "python",
   "name": "python3"
  },
  "language_info": {
   "codemirror_mode": {
    "name": "ipython",
    "version": 3
   },
   "file_extension": ".py",
   "mimetype": "text/x-python",
   "name": "python",
   "nbconvert_exporter": "python",
   "pygments_lexer": "ipython3",
   "version": "3.10.12"
  },
  "latex_envs": {
   "LaTeX_envs_menu_present": true,
   "autoclose": false,
   "autocomplete": true,
   "bibliofile": "biblio.bib",
   "cite_by": "apalike",
   "current_citInitial": 1,
   "eqLabelWithNumbers": true,
   "eqNumInitial": 1,
   "hotkeys": {
    "equation": "Ctrl-E",
    "itemize": "Ctrl-I"
   },
   "labels_anchors": false,
   "latex_user_defs": false,
   "report_style_numbering": true,
   "user_envs_cfg": false
  },
  "toc": {
   "base_numbering": 1,
   "nav_menu": {},
   "number_sections": true,
   "sideBar": true,
   "skip_h1_title": true,
   "title_cell": "Table of Contents",
   "title_sidebar": "Contents",
   "toc_cell": true,
   "toc_position": {},
   "toc_section_display": true,
   "toc_window_display": true
  }
 },
 "nbformat": 4,
 "nbformat_minor": 4
}
