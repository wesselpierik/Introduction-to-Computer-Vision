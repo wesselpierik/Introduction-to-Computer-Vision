{
 "cells": [
  {
   "cell_type": "markdown",
   "metadata": {},
   "source": [
    "**Reminder: always use `Kernel > Restart & Run All` and check the results before submitting.**"
   ]
  },
  {
   "cell_type": "markdown",
   "metadata": {},
   "source": [
    "# ICV INF Lab Exercise 2: Warping & Estimation"
   ]
  },
  {
   "cell_type": "code",
   "execution_count": 2,
   "metadata": {},
   "outputs": [],
   "source": [
    "# The imports for the code in this lab\n",
    "\n",
    "import numpy as np\n",
    "import matplotlib.pyplot as plt\n",
    "import wget\n",
    "from skimage.transform import warp"
   ]
  },
  {
   "cell_type": "markdown",
   "metadata": {},
   "source": [
    "Hidden in this cell are some $\\LaTeX$ macros\n",
    "$\\newcommand{\\v}[1]{\\mathbf #1}$\n",
    "$\\newcommand{\\hv}[1]{\\widetilde{\\mathbf #1}}$\n",
    "$\\newcommand{\\setR}{\\mathbb R}$\n",
    "$\\newcommand{\\T}{^\\top}$\n",
    "$\\newcommand{\\inv}{^{-1}}$"
   ]
  },
  {
   "cell_type": "markdown",
   "metadata": {},
   "source": [
    "## Interpolation"
   ]
  },
  {
   "cell_type": "markdown",
   "metadata": {},
   "source": [
    "In a previous LabExercise you have written the ``pixel_value`` function. We will need that function again in this lab, and we are extending it with multiple ways of handling the border of the image. (2pt)"
   ]
  },
  {
   "cell_type": "markdown",
   "metadata": {},
   "source": [
    "The named (or keyword) argument ``interpolation`` can have value ``'nearest'`` or ``'bilinear'`` indicating the type of interpolation. The argument ``mode`` indicates the way the border problem is taken care of. Valid values are ``'closest'`` and ``'constant'``. If ``mode='constant'`` then the named argument ``cval`` provides the constant value to be used. You may additionally implement ``mode=wrap`` if you are interested, but this is optional."
   ]
  },
  {
   "cell_type": "code",
   "execution_count": 1,
   "metadata": {},
   "outputs": [],
   "source": [
    "def in_image(image_shape, y, x):\n",
    "    if not 0 <= y <= image_shape[0] - 1:\n",
    "        return False\n",
    "    if not 0 <= x <= image_shape[1] - 1:\n",
    "        return False\n",
    "    return True\n",
    "\n",
    "def pixel_value(F, y, x, interpolation_method='nearest', \n",
    "                border_method='constant', cval=0):\n",
    "    \"\"\"\n",
    "    This function returns the interpolated function value for the function\n",
    "    given by numpy array F. The valid interpolation methods are 'nearest' and\n",
    "    'bilinear'. The modes for dealing with points outside the border of F are \n",
    "    'closest' and 'constant' (and possibly 'wrap', depending on implementation). \n",
    "    The optional parameter cval gives the value to be returned outside the borders\n",
    "    of F, in case `border_method == 'constant'`.\n",
    "    \"\"\"\n",
    "    if not in_image(F.shape, y, x):\n",
    "        if border_method == \"constant\":\n",
    "            return cval\n",
    "        elif border_method == \"closest\":\n",
    "            y_new = max(0, min(y, F.shape[0] - 1))\n",
    "            x_new = max(0, min(x, F.shape[1] - 1))\n",
    "            return pixel_value(\n",
    "                F, y_new, x_new, interpolation_method, border_method, cval\n",
    "            )\n",
    "\n",
    "    if interpolation_method == \"nearest\":\n",
    "        return F[int(y + 0.5), int(x + 0.5)]\n",
    "    elif interpolation_method == \"bilinear\" or interpolation_method == 'linear':\n",
    "        a = x - int(x)\n",
    "        b = y - int(y)\n",
    "        return ((1 - a) * (1 - b) * pixel_value(F, int(y), int(x), \"nearest\", border_method, cval)\n",
    "                + a * (1 - b) * pixel_value(F, int(y), int(x) + 1, \"nearest\", border_method, cval)\n",
    "                + (1 - a) * b * pixel_value(F, int(y) + 1, int(x), \"nearest\", border_method, cval)\n",
    "                + a * b * pixel_value(F, int(y) + 1, int(x) + 1, \"nearest\", border_method, cval))"
   ]
  },
  {
   "cell_type": "markdown",
   "metadata": {},
   "source": [
    "We will test this function on a simple very small version of a standard image ``trui.png``. The code below tries to read the image from the directory where this notebook is stored. If the file can't be read an exception is thrown and caught. Then the file is downloaded from the computer vision web pages and again the file is read."
   ]
  },
  {
   "cell_type": "markdown",
   "metadata": {},
   "source": [
    "For starting Python programmers this way of programming might be counter intuitive. Perhaps you would like first to check if the file exists in the local directory and if not download it. This is the classical *Look before you leap (LBYL)* paradigm in programming. In Python one often uses the *Easier to Ask for Forgiveness than Permission (EAFP)* approach. Search the web for all the pros and cons of both approaches."
   ]
  },
  {
   "cell_type": "code",
   "execution_count": null,
   "metadata": {},
   "outputs": [],
   "source": [
    "try:\n",
    "    F = plt.imread('trui.png')\n",
    "except FileNotFoundError:\n",
    "    wget.download(\"https://staff.fnwi.uva.nl/r.vandenboomgaard/ComputerVision/_images/trui.png\")\n",
    "    F = plt.imread('trui.png')\n",
    "Fsmall = F[::4,::4]\n",
    "plt.imshow(Fsmall)\n",
    "plt.gray()"
   ]
  },
  {
   "cell_type": "markdown",
   "metadata": {
    "nbgrader": {
     "grade": false,
     "grade_id": "cell-35041834c4f4e083",
     "locked": true,
     "schema_version": 3,
     "solution": false,
     "task": false
    }
   },
   "source": [
    "We then test your ``pixel_value`` function. We make a new image ``G`` by sampling the image ``F`` in 128x128 points. At position (x,y) in image G we sample image G at position (x-32, y-32). If all is well you should end up with an image G that shows image F in its center and the border around it should be determined by the border mode that is selected."
   ]
  },
  {
   "cell_type": "code",
   "execution_count": null,
   "metadata": {},
   "outputs": [],
   "source": [
    "# Note only border modes 'constant' and 'closest' are mandatory. \n",
    "# Switch the following two lines only if you have implemented all three modes, which is optional.\n",
    "\n",
    "# modes_implemented = ['closest', 'constant', 'wrap'] \n",
    "modes_implemented = ['closest', 'constant']\n",
    "\n",
    "G = {}\n",
    "for mode in modes_implemented:\n",
    "    G[mode] = np.zeros((128,128))\n",
    "\n",
    "for y in range(128):\n",
    "    for x in range(128):\n",
    "        for m in modes_implemented:\n",
    "            G[m][y, x] = pixel_value(Fsmall, y-32, x-32, \n",
    "                                     interpolation_method='nearest', border_method=m, cval=0)\n",
    "            \n",
    "n = len(modes_implemented)\n",
    "for i, mode in enumerate(modes_implemented):\n",
    "    plt.subplot(1,n,i+1)\n",
    "    plt.imshow(G[mode])\n",
    "    plt.title(mode)\n",
    "    plt.axis('off')\n"
   ]
  },
  {
   "cell_type": "markdown",
   "metadata": {},
   "source": [
    "If the ``pixel_value`` function is working with at least the 'closest' and 'constant' border mode, we will continue with some exercises and questions regarding homogeneous coordinates. These are a mathematical tool to efficiently describe describe commonly used geometrical transformations."
   ]
  },
  {
   "cell_type": "markdown",
   "metadata": {},
   "source": [
    "## Homogeneous Coordinates and Rotations"
   ]
  },
  {
   "cell_type": "markdown",
   "metadata": {},
   "source": [
    "Before you continue reading this notebook, make sure you have read the section on homogeneous coordinates in the lecture notes in the 'Mathematical Tools' chapter."
   ]
  },
  {
   "cell_type": "markdown",
   "metadata": {},
   "source": [
    "A 2D point $\\v x = (a\\;\\; b)\\T$ is represented with a homogeneous vector $\\hv x = (s\\,a\\;\\;s\\,b\\;\\;s)\\T$ where $s$ can be any real number not equal zero. In this LabExercise we will often find the need to take a vector $\\v x$ and make a homogeneous representation $\\hv x$ for it. In Numpy a vector $\\v x\\in\\setR^2$ is represented with a (2,) shaped array and the homogeneous vector $\\hv x$ is represented with a (3,) shaped array. A 'normal' vector $\\v x$ is often called a Euclidean vector, in contrast with $\\hv x$ being a homogeneous vector."
   ]
  },
  {
   "cell_type": "markdown",
   "metadata": {},
   "source": [
    "Much later on in the course we will consider Euclidean vectors in 3 dimsional space as well. A vector $\\v x = (a\\;\\;b\\;\\;c)\\T\\in\\setR^3$ in homogeneous representation is $\\hv x = (s\\,a\\;\\;s\\,b\\;\\;s\\,c\\;\\;s)\\T$."
   ]
  },
  {
   "cell_type": "markdown",
   "metadata": {},
   "source": [
    "Write the functions ``e2h`` that takes a (matrix of) Euclidean vector(s) as input (either a 2 or 3 dimensional vector) and returns the corresponding homogeneous vector(s). Als write the function ``h2e`` that does the opposite. So for the function ``e2h`` the input is either a (n,) shaped array or a (n,m) shaped array where n is the dimension of the Euclidean space and m is the number of vectors we need to represent in homogeneous coordinates. The result should be a (n+1,) shaped array or a (n+1, m) shaped array respectively. The Numpy ``hstack``, ``vstack``, ``concatenate`` and ``column_stack`` functions can be useful here. (5pt)"
   ]
  },
  {
   "cell_type": "code",
   "execution_count": null,
   "metadata": {},
   "outputs": [],
   "source": [
    "def e2h(x):\n",
    "    # YOUR CODE HERE (Replace this and the following line with your code)\n",
    "    raise NotImplementedError()\n",
    "    \n",
    "def h2e(tx):\n",
    "    # YOUR CODE HERE (Replace this and the following line with your code)\n",
    "    raise NotImplementedError()"
   ]
  },
  {
   "cell_type": "markdown",
   "metadata": {},
   "source": [
    "A 3x3 homogeneous matrix can represent all linear operations on $\\setR^2$, but can also represent translations in $\\setR^2$. More generally, a 3x3 homogeneous matrix can represent all *projective transformations*. We will look at these in a later section. We end this subsection with some examples of transformations to test your ``h2e`` and ``e2h`` functions. \n",
    "\n",
    "The code below uses your functions to apply projective transformations to a square and a triangle in $\\setR^2$, and shows the results. In the ANS homework, there are some questions about this piece of code and its output, under *Transformations of squares*."
   ]
  },
  {
   "cell_type": "code",
   "execution_count": null,
   "metadata": {},
   "outputs": [],
   "source": [
    "def draw_polygon(p, ax, closed=True, filled=False):\n",
    "    if closed:\n",
    "        pp = np.column_stack((p,p[:,0]))\n",
    "    ax.plot(pp[0], pp[1], '-o')\n",
    "    \n",
    "    \n",
    "plt.figure()\n",
    "unit_square = np.array([[0, 1, 1, 0],\n",
    "                        [0, 0, 1, 1]])\n",
    "triangle = np.array([[0,  1, 1], \n",
    "                     [0, -1, 1]])\n",
    "\n",
    "fig, axs = plt.subplots(1,2)\n",
    "draw_polygon(unit_square, axs[0])\n",
    "draw_polygon(triangle, axs[1])\n",
    "\n",
    "T1 = np.array([[1, 0, 3],\n",
    "               [0, 1, 7],\n",
    "               [0, 0, 1]])\n",
    "T2 = np.array([[5, 3, 2],\n",
    "               [2, 4, 3],\n",
    "               [1, 2, 1]])\n",
    "T3 = np.array([[4, -3, 0],\n",
    "               [3, 4, 0],\n",
    "               [0, 0, 5]])\n",
    "\n",
    "transforms = [T1, T2, T3]\n",
    "\n",
    "for T in transforms:\n",
    "    Tsquare = h2e( T @ e2h(unit_square))\n",
    "    draw_polygon(Tsquare, axs[0])\n",
    "    axs[0].axis('equal');\n",
    "    \n",
    "    Ttriangle = h2e( T @ e2h(triangle))\n",
    "    draw_polygon(Ttriangle, axs[1])\n",
    "    axs[1].axis('equal');\n",
    "\n",
    "plt.legend(['No transform', 'T1', 'T2','T3'], bbox_to_anchor=(1.8, 1));\n"
   ]
  },
  {
   "cell_type": "markdown",
   "metadata": {},
   "source": [
    "## Image Rotations"
   ]
  },
  {
   "cell_type": "markdown",
   "metadata": {},
   "source": [
    "In this section you are going to use a homogeneous transform to rotate an image. We want to rotate the image around its center. The output image should have the same size as the input image."
   ]
  },
  {
   "cell_type": "markdown",
   "metadata": {},
   "source": [
    "In case the shape of an image (array) is ``(H,W)`` (where H stands for height and W stands for width), the center is given by: $(x_c,y_c)=(W/2, H/2)$.\n",
    "Convince yourself that a rotation around the center is given by $T_\\v t \\tilde R_\\phi T_{-\\v t}$"
   ]
  },
  {
   "cell_type": "markdown",
   "metadata": {},
   "source": [
    "Read the lecture notes on geometrical transformations to prepare for implementation of the image rotation. "
   ]
  },
  {
   "cell_type": "markdown",
   "metadata": {},
   "source": [
    "Below is the algorithm for the (WRONG) forward pass algorithm. Instead of the domain iterator described in the lecture notes a simple double loop over all pixels in the input image is used. As an extra a section is added to this lab that uses the domain iterator from the lecture notes."
   ]
  },
  {
   "cell_type": "code",
   "execution_count": null,
   "metadata": {},
   "outputs": [],
   "source": [
    "def rotate_forward(F, phi):\n",
    "    # First calculate the transform\n",
    "    H, W = F.shape[:2]\n",
    "    halfH, halfW = H/2, W/2\n",
    "    T = np.array([[1, 0, halfW], [0, 1, halfH], [0, 0, 1]])\n",
    "    cp = np.cos(phi)\n",
    "    sp = np.sin(phi)\n",
    "    R = np.array([[cp, -sp, 0], [sp, cp, 0], [0, 0, 1]])\n",
    "    A = T @ R @ np.linalg.inv(T)\n",
    "        \n",
    "    # Now apply the transformation, and store the result in G.    \n",
    "    G = np.zeros_like(F)\n",
    "    for x in range(W):\n",
    "        for y in range(H):\n",
    "            xa, ya = h2e(A @ np.array([x, y, 1]))\n",
    "            if 0<=ya<=H-1 and 0<=xa<=W-1:\n",
    "                xai = np.rint(xa).astype(int)\n",
    "                yai = np.rint(ya).astype(int)\n",
    "                G[yai, xai] = F[y, x]\n",
    "    return G"
   ]
  },
  {
   "cell_type": "code",
   "execution_count": null,
   "metadata": {},
   "outputs": [],
   "source": [
    "Gsmall_forward = rotate_forward(Fsmall, np.pi/4)\n",
    "plt.imshow(Gsmall_forward)\n",
    "plt.axis('off');"
   ]
  },
  {
   "cell_type": "markdown",
   "metadata": {},
   "source": [
    "Yes, we are rotating the image, but no, it is not the correct result. You had better implement the backward algorithm. Implementing the backward algorithm requires your your ``pixel_value`` function and thus its parameters. (4pt)"
   ]
  },
  {
   "cell_type": "code",
   "execution_count": null,
   "metadata": {},
   "outputs": [],
   "source": [
    "def rotate_backward(F, phi, interpolation_method='nearest', \n",
    "                    border_method='constant', cval=0):\n",
    "    \"\"\" Rotates the image F over an angle of phi, using the\n",
    "    pixel_value function for interpolation.\"\"\"\n",
    "    # YOUR CODE HERE (Replace this and the following line with your code)\n",
    "    raise NotImplementedError()"
   ]
  },
  {
   "cell_type": "code",
   "execution_count": null,
   "metadata": {},
   "outputs": [],
   "source": [
    "Gsmall_backward = rotate_backward(Fsmall, np.pi/4, \n",
    "                                  interpolation_method='nearest',\n",
    "                                  border_method='constant')\n",
    "plt.imshow(Gsmall_backward)\n",
    "plt.axis('off');"
   ]
  },
  {
   "cell_type": "markdown",
   "metadata": {},
   "source": [
    "If you feel lucky, or better yet have a reasonable fast computer you may try it on the full size image (and even this one is small for today's many megabytes images)."
   ]
  },
  {
   "cell_type": "code",
   "execution_count": null,
   "metadata": {},
   "outputs": [],
   "source": [
    "G_backward = rotate_backward(F, np.pi/4, \n",
    "                             interpolation_method='bilinear',\n",
    "                             border_method='constant')\n",
    "plt.imshow(G_backward)\n",
    "plt.axis('off');"
   ]
  },
  {
   "cell_type": "markdown",
   "metadata": {},
   "source": [
    "OK let's try our luck even more. Would it work for a color image?"
   ]
  },
  {
   "cell_type": "code",
   "execution_count": null,
   "metadata": {},
   "outputs": [],
   "source": [
    "try:\n",
    "    Fc = plt.imread('colortrui.png')\n",
    "except FileNotFoundError:\n",
    "    wget.download(\"https://staff.fnwi.uva.nl/r.vandenboomgaard/ComputerVision/_images/colortrui.png\")\n",
    "    Fc = plt.imread('colortrui.png')\n",
    "Fcsmall = Fc[::4,::4]\n",
    "plt.imshow(Fcsmall);"
   ]
  },
  {
   "cell_type": "code",
   "execution_count": null,
   "metadata": {},
   "outputs": [],
   "source": [
    "Gcsmall_backward = rotate_backward(Fcsmall, np.pi/4, \n",
    "                             interpolation_method='nearest',\n",
    "                             border_method='constant')\n",
    "plt.imshow(Gcsmall_backward)\n",
    "plt.axis('off');"
   ]
  },
  {
   "cell_type": "markdown",
   "metadata": {},
   "source": [
    "Note that you can use color images in the ``rotate_forward`` function as well. There is nothing special hidden in the ``rotate_backward`` function to deal with color images. Well, in the backward (and forward) code there *is* one line that is special for color images, the rest of the magic is all hidden in Numpy indexing and ufuncs."
   ]
  },
  {
   "cell_type": "markdown",
   "metadata": {},
   "source": [
    "Now that you have written you own rotation algorithm and hopefully have a basic understanding what is happening we switch to a warp (geometrical transform) algorithm from the skimage package.\n",
    "Most computer vision libraries, like skimage and OpenCV, have warp algorithms available where you just have to give the homogeneous transformation matrix and the size of the output image as arguments.\n",
    "\n",
    "The following command gives you an explanation of the `warp` function."
   ]
  },
  {
   "cell_type": "code",
   "execution_count": null,
   "metadata": {},
   "outputs": [],
   "source": [
    "# Uncomment the last line to get information on the `warp` function. However, recomment before you submit:\n",
    "# this \"notebook magic\" breaks the autotests....\n",
    "\n",
    "# warp?"
   ]
  },
  {
   "cell_type": "markdown",
   "metadata": {},
   "source": [
    "Calculate the transformation matrix needed to turn this picture over an angle of $\\pi/4$, then use the `warp` function to apply it to the image $F$. (3pt)"
   ]
  },
  {
   "cell_type": "code",
   "execution_count": null,
   "metadata": {},
   "outputs": [],
   "source": [
    "# First calculate the transformation matrix transform_matrix\n",
    "# that the warp function needs (Read the documentation:\n",
    "# have you already discovered the ``warp?`` command to \n",
    "# show the docstring of the warp function?)\n",
    "\n",
    "def get_pi_over_4_rotation_matrix(H, W):\n",
    "    \"\"\"\n",
    "    Returns the projective transformation matrix that rotates an image of size H x W \n",
    "    about its center (H/2, W/2) over an angle of pi/4.\n",
    "    \"\"\"\n",
    "    # YOUR CODE HERE (Replace this and the following line with your code)\n",
    "    raise NotImplementedError()\n",
    "\n",
    "transform_matrix = get_pi_over_4_rotation_matrix(F.shape[0], F.shape[1])\n",
    "Gwarp = warp(F, transform_matrix)\n",
    "plt.imshow(Gwarp);"
   ]
  },
  {
   "cell_type": "markdown",
   "metadata": {},
   "source": [
    "Comparing the Gwarp image with the Gbackward image with my own implementation of the ``pixel_value`` function the images were almost equal except at the boundaries of the original image. If you can come up with a better implementation matching the ``skimage.transform.warp`` function you get extra credit! But maybe there is some error in the warp algorithm... If you find that error you will become famous (well at least known to the skimage developers)."
   ]
  },
  {
   "cell_type": "markdown",
   "metadata": {},
   "source": [
    "## Estimating an Affine Transform"
   ]
  },
  {
   "cell_type": "markdown",
   "metadata": {},
   "source": [
    "The generic affine transform can be written as the matrix transform:\n",
    "\\begin{align}\n",
    "    \\hv x' = A\\,\\hv x\n",
    "\\end{align}\n",
    "where\n",
    "\\begin{align}\n",
    "A = \\begin{bmatrix}\n",
    "a & b & c\\\\\n",
    "d & e & f\\\\\n",
    "0 & 0 & 1\n",
    "\\end{bmatrix}\n",
    "\\end{align}\n",
    "To specify an affine transform we need to specify what the transform $\\hv x_i'$ is of three points $\\hv x_i$ for $i=1,2,3$. Read the lecture notes (chapter on homogeneous coordinates in the Math Tools part) and watch the video of the lecture.\n",
    "\n",
    "An affine transform maps a parallelogram onto a (different) parallelogram. Note that a parallelogram is defined by three of its vertices. The fourth one follows from the given three.\n",
    "\n",
    "Given these three point correspondences we may write (in block matrix notation):\n",
    "\\begin{align}\n",
    "    \\begin{bmatrix}\n",
    "    \\hv x'_1 & \\hv x'_2 & \\hv x'_3 \n",
    "    \\end{bmatrix} &=\n",
    "    A \\begin{bmatrix}\n",
    "    \\hv x_1 & \\hv x_2 & \\hv x_3 \n",
    "    \\end{bmatrix}\\\\\n",
    "    X' &= A X\n",
    "\\end{align}\n",
    "All three matrices are $3\\times3$ matrices and in case $X$ is non-singular we may write:\n",
    "\\begin{align}\n",
    "    A = X'\\,X\\inv\n",
    "\\end{align}"
   ]
  },
  {
   "cell_type": "markdown",
   "metadata": {},
   "source": [
    "In practice the above method to calculate the matrix A is not often used in computer vision. "
   ]
  },
  {
   "cell_type": "markdown",
   "metadata": {},
   "source": [
    "We can however rewrite the $\\hv x_i' = A \\hv x_i$ in the following way (see the lecture notes):\n",
    "\\begin{split}\\begin{pmatrix}x_i'\\\\ y_i'\\end{pmatrix} =\n",
    "\\begin{pmatrix}x_i& y_i& 1& 0& 0& 0\\\\0& 0& 0& x_i& y_i& 1 \\end{pmatrix}\n",
    "\\begin{pmatrix}a\\\\b\\\\c\\\\d\\\\e\\\\f \\end{pmatrix}\\end{split}\n",
    "Here we have rewritten the original equation in such a way that all the parameters to be estimated are collected in a parameter vector.\n",
    "\n",
    "The above is just for one point correspondence. For 3 point\n",
    "correspondences we can stack the $x_i', y_i'$ values and also add two rows to the matrix on the right hand side. For three points we have:\n",
    "\n",
    "\\begin{align}\n",
    "   \\begin{pmatrix}x_1'\\\\ y_1'\\\\x_2'\\\\ y_2'\\\\x_3'\\\\ y_3'\\end{pmatrix} = \n",
    "   \\begin{pmatrix}\n",
    "   x_1& y_1& 1& 0& 0& 0\\\\0& 0& 0& x_1& y_1& 1\\\\\n",
    "   x_2& y_2& 1& 0& 0& 0\\\\0& 0& 0& x_2& y_2& 1\\\\\n",
    "   x_3& y_3& 1& 0& 0& 0\\\\0& 0& 0& x_3& y_3& 1 \\end{pmatrix}\n",
    "   \\begin{pmatrix}a\\\\b\\\\c\\\\d\\\\e\\\\f \\end{pmatrix}\n",
    "\\end{align}\n",
    "or:\n",
    "\\begin{align}\n",
    "   \\v q = M \\v p\n",
    "\\end{align}\n",
    "The $6\\times6$ matrix $M$ is invertible (given three non collinear\n",
    "points) and thus:\n",
    "\\begin{align}\n",
    "   \\v p = M\\inv \\v q\n",
    "\\end{align}\n",
    "To get the matrix $A$ from $p$ we have to fill in a 3x3 matrix with the correct values from $p$."
   ]
  },
  {
   "cell_type": "markdown",
   "metadata": {},
   "source": [
    "In the remainder of this section you are asked to write the code to select a parallelogram in an image (say F) by specifying three of the points and warp that parallelogram to a new image."
   ]
  },
  {
   "cell_type": "markdown",
   "metadata": {},
   "source": [
    "First we specify and draw a parallelogram on top of an image."
   ]
  },
  {
   "cell_type": "code",
   "execution_count": null,
   "metadata": {},
   "outputs": [],
   "source": [
    "pts1 = [np.array([60, 60]),\n",
    "        np.array([100, 30]),\n",
    "        np.array([100, 90])]\n",
    "\n",
    "pts2 = [np.array([0, 255]),\n",
    "        np.array([0, 0]),\n",
    "        np.array([255, 255])]\n",
    "\n",
    "pts3 = [np.array([60, 40]),\n",
    "        np.array([120, 40]),\n",
    "        np.array([60, 100])]\n",
    "\n",
    "def parallelogram(x1, x2, x3):\n",
    "    return np.column_stack((x1, x2, x2 + (x3-x1), x3))"
   ]
  },
  {
   "cell_type": "code",
   "execution_count": null,
   "metadata": {},
   "outputs": [],
   "source": [
    "x1, x2, x3 = pts1\n",
    "F = plt.imread('trui.png')\n",
    "plt.imshow(F)\n",
    "draw_polygon(parallelogram(x1, x2, x3), plt.gca())"
   ]
  },
  {
   "cell_type": "markdown",
   "metadata": {},
   "source": [
    "Next you have to construct the matrix $M$ and the vector $q$ and from that calculate the affine transformation matrix. The vectors $\\v x_i$ are encoded in Python as the (2,) arrays ``x1``, ``x2`` and ``x3``. The vectors $\\v x_i'$ are encoded as the arrays ``xa1``, ``xa2`` and ``xa3``. (5pt)"
   ]
  },
  {
   "cell_type": "code",
   "execution_count": null,
   "metadata": {},
   "outputs": [],
   "source": [
    "def affine_transform_matrix(x1, x2, x3, xa1, xa2, xa3):\n",
    "    \"\"\"\n",
    "    Calculates the affine transformation matrix A that maps \n",
    "    (in homogeneous coordinates) the vectors xi to xai. The\n",
    "    vectors are given in Euclidean coordinates.\n",
    "    \"\"\"\n",
    "    # YOUR CODE HERE (Replace this and the following line with your code)\n",
    "    raise NotImplementedError()"
   ]
  },
  {
   "cell_type": "markdown",
   "metadata": {},
   "source": [
    "Next you have to write the function ``affine_transform_image`` that is given three points x1, x2 and x3 in the input image F and maps these to the corners of the resulting image xa1=[0,0], xa2=[W-1,0] and xa3=[0,H-1], where (H,W) is the shape of the new image array. Note that F can be a color image or a scalar image. Use the ``warp`` function from skimage. Note that this function has a named argument ``output_shape`` to set the shape of the output image. (3pt)"
   ]
  },
  {
   "cell_type": "code",
   "execution_count": null,
   "metadata": {},
   "outputs": [],
   "source": [
    "def affine_transform_image(F, x1, x2, x3, H, W):\n",
    "    # YOUR CODE HERE (Replace this and the following line with your code)\n",
    "    raise NotImplementedError()"
   ]
  },
  {
   "cell_type": "markdown",
   "metadata": {},
   "source": [
    "Use the following cells to (visually) test your `affine_transform_image` function."
   ]
  },
  {
   "cell_type": "code",
   "execution_count": null,
   "metadata": {},
   "outputs": [],
   "source": [
    "x1, x2, x3 = pts1\n",
    "plt.subplot(121)\n",
    "plt.imshow(F)\n",
    "draw_polygon(parallelogram(x1, x2, x3), plt.gca())\n",
    "G = affine_transform_image(F, x1, x2, x3, *F.shape)\n",
    "plt.subplot(122)\n",
    "plt.imshow(G);"
   ]
  },
  {
   "cell_type": "code",
   "execution_count": null,
   "metadata": {},
   "outputs": [],
   "source": [
    "pts = [(10, 10), (20, 30), (100, 200)]\n",
    "vals = [G[pt] for pt in pts]\n",
    "vals"
   ]
  },
  {
   "cell_type": "code",
   "execution_count": null,
   "metadata": {},
   "outputs": [],
   "source": [
    "x1, x2, x3 = pts2\n",
    "plt.subplot(121)\n",
    "plt.imshow(F)\n",
    "draw_polygon(parallelogram(x1, x2, x3), plt.gca())\n",
    "G = affine_transform_image(F, x1, x2, x3, *F.shape)\n",
    "plt.subplot(122)\n",
    "plt.imshow(G);"
   ]
  },
  {
   "cell_type": "code",
   "execution_count": null,
   "metadata": {},
   "outputs": [],
   "source": [
    "x1, x2, x3 = pts3\n",
    "plt.subplot(121)\n",
    "plt.imshow(F)\n",
    "draw_polygon(parallelogram(x1, x2, x3), plt.gca())\n",
    "G = affine_transform_image(F, x1, x2, x3, *F.shape)\n",
    "plt.subplot(122)\n",
    "plt.imshow(G);"
   ]
  },
  {
   "cell_type": "markdown",
   "metadata": {},
   "source": [
    "## Estimating a Projective Transform"
   ]
  },
  {
   "cell_type": "markdown",
   "metadata": {},
   "source": [
    "In general we are not so lucky that the transformation, which a camera performs on a flat piece of paper, is affine. That only happens if the two are relatively far away from each other (in terms of the camera’s focal length). A more realistic transformation is the *projective transformation.*"
   ]
  },
  {
   "cell_type": "markdown",
   "metadata": {},
   "source": [
    "The goal in this section is to take the following image:\n",
    "<img src=\"https://staff.fnwi.uva.nl/r.vandenboomgaard/ComputerVision/_static/flyeronground.png\" width=\"500\">\n",
    "and to warp the quadrilateral flyer into a separate, rectangular picture:\n",
    "<img src=\"https://staff.fnwi.uva.nl/r.vandenboomgaard/ComputerVision/_static/flyerwarped.png\" width=\"300\">"
   ]
  },
  {
   "cell_type": "markdown",
   "metadata": {},
   "source": [
    "Please read the section on 'Homogeneous Coordinates' in the 'Mathematical Tools' part of the lecture notes. Especcially the subsections 'Projective Transform' and 'Estimating Parameters/Projective Transform'."
   ]
  },
  {
   "cell_type": "markdown",
   "metadata": {},
   "source": [
    "This is exactly the transformation that a pinhole camera applies to a planar object when (ahem) projecting it to the image plane. In Week 6 (and Chapter 2 in the Computer Vision part of the Lecure notes) you can find out how this transformation is connected to the imaging process in a camera, and we’ll even to a lab exercise about that. For now, all you need to know is that a projective transformation is capable of transforming an arbitrary quadrilateral in the plane into another arbitrary quadrilateral (this could be called its ‘defining property’)."
   ]
  },
  {
   "cell_type": "markdown",
   "metadata": {},
   "source": [
    "The perspective transform is the generic transform characterized with\n",
    "a 3x3 homogeneous matrix:\n",
    "\\begin{align}\n",
    "   s\\begin{pmatrix}x'\\\\y'\\\\1\\end{pmatrix} =& \n",
    "   \\begin{pmatrix}a & b & c\\\\d & e & f\\\\g & h & i\\end{pmatrix}\n",
    "   \\begin{pmatrix}x\\\\y\\\\1\\end{pmatrix} \\\\\n",
    "   \\hv x' \\sim& P\\,\\hv x\n",
    "\\end{align}\n",
    "Note the scaling factor $s$ in the above expression which is due to\n",
    "the normalization that is inherent when using homogeneous coordinates\n",
    "(and a transform for which elements $g$ and $h$ are not zero). This is\n",
    "also why in the second equation we write $\\sim$ instead of $=$.\n",
    "\n",
    "In the lecture notes it is explained that this can be rewritten as:\n",
    "\\begin{align}\n",
    "   \\begin{pmatrix}\n",
    "   x & y & 1 & 0 & 0 & 0 & -x'x & -x'y & -x'\\\\\n",
    "   0 & 0 & 0 & x & y & 1 & -y'x & -y'y & -y'\n",
    "   \\end{pmatrix}\n",
    "   \\begin{pmatrix}a\\\\b\\\\c\\\\d\\\\e\\\\f\\\\g\\\\h\\\\i \\end{pmatrix} =\n",
    "   \\begin{pmatrix}0\\\\0 \\end{pmatrix} \n",
    "\\end{align}\n",
    "Stacking 4 point correspondences we arrive at:\n",
    "\\begin{align}\n",
    "   \\begin{pmatrix}\n",
    "   x_1 & y_1 & 1 & 0 & 0 & 0 & -x_1'x_1 & -x_1'y_1 & -x_1'\\\\\n",
    "   0 & 0 & 0 & x_1 & y_1 & 1 & -y_1'x_1 & -y_1'y_1 & -y_1'\\\\\n",
    "   x_2 & y_2 & 1 & 0 & 0 & 0 & -x_2'x_2 & -x_2'y_2 & -x_2'\\\\\n",
    "   0 & 0 & 0 & x_2 & y_2 & 1 & -y_2'x_2 & -y_2'y_2 & -y_2'\\\\\n",
    "   x_3 & y_3 & 1 & 0 & 0 & 0 & -x_3'x_3 & -x_3'y_3 & -x_3'\\\\\n",
    "   0 & 0 & 0 & x_3 & y_3 & 1 & -y_3'x_3 & -y_3'y_3 & -y_3'\\\\\n",
    "   x_4 & y_4 & 1 & 0 & 0 & 0 & -x_4'x_4 & -x_4'y_4 & -x_4'\\\\\n",
    "   0 & 0 & 0 & x_4 & y_4 & 1 & -y_4'x_4 & -y_4'y_4 & -y_4'\n",
    "   \\end{pmatrix}\n",
    "   \\begin{pmatrix}a\\\\b\\\\c\\\\d\\\\e\\\\f\\\\g\\\\h\\\\i \\end{pmatrix} =&\n",
    "   \\begin{pmatrix}0\\\\0\\\\0\\\\0\\\\0\\\\0\\\\0\\\\0 \\end{pmatrix} \\\\\n",
    "   \\v M \\v p =& \\v 0\n",
    "\\end{align}\n",
    "This is a homogeneous system of equations. It can be shown that in\n",
    "case the points are not colinear there is one non trivial solution for\n",
    "the vector $\\v p$.\n"
   ]
  },
  {
   "cell_type": "markdown",
   "metadata": {},
   "source": [
    "In this Lab Exercise we work with only 4 point correspondences to define the projective transformation. In theory these are all that's needed. In practice the points are not exact, there is some noise due to the measurement process. In a later lab exercise you have to stitch images together and then we need many more point correspondences to do the estimation of the projective transform."
   ]
  },
  {
   "cell_type": "markdown",
   "metadata": {},
   "source": [
    "In the lecture notes it is explained in what way the SVD can be used to solve an equation of the form $M\\v p = \\v 0$ where $M$ is $2n\\times9$ (in the above equation we have taken the minimal $n=4$). In this lab you may assume $n=4$ but it is wise anyway to use the 'SVD trick' to find the null vector of $M$."
   ]
  },
  {
   "cell_type": "markdown",
   "metadata": {},
   "source": [
    "First you need to write the function ``projective_transform_matrix`` that has parameters ``x1``, ``x2``, ``x3``, ``x4`` and ``xa1``, ``xa2``, ``xa3``, ``xa4`` being the 4 source points and the 4 transformed points. Each of these points is a (2,) array."
   ]
  },
  {
   "cell_type": "markdown",
   "metadata": {},
   "source": [
    "We provide you with the code to draw a quadrilateral on top of an image."
   ]
  },
  {
   "cell_type": "code",
   "execution_count": null,
   "metadata": {},
   "outputs": [],
   "source": [
    "try:\n",
    "    F = plt.imread('flyeronground.png')\n",
    "except FileNotFoundError:\n",
    "    wget.download(\"https://staff.fnwi.uva.nl/r.vandenboomgaard/ComputerVision/_images/flyeronground.png\")\n",
    "    F = plt.imread('flyeronground.png')"
   ]
  },
  {
   "cell_type": "code",
   "execution_count": null,
   "metadata": {},
   "outputs": [],
   "source": [
    "x1 = np.array([570, 186])\n",
    "x2 = np.array([819, 166])\n",
    "x3 = np.array([590, 583])\n",
    "x4 = np.array([350, 552])\n",
    "\n",
    "def quadrilateral(x1, x2, x3, x4):\n",
    "    return np.column_stack((x1, x2, x3, x4))\n",
    "\n",
    "plt.imshow(F)\n",
    "draw_polygon(quadrilateral(x1, x2, x3, x4), ax=plt.gca())"
   ]
  },
  {
   "cell_type": "markdown",
   "metadata": {},
   "source": [
    "Next you have to write the function ``projective_transform_matrix`` that uses the 'SVD trick' to calculate the projective transform matrix $P$ given 4 point correspondences. (5pt)"
   ]
  },
  {
   "cell_type": "code",
   "execution_count": null,
   "metadata": {},
   "outputs": [],
   "source": [
    "def projective_transform_matrix(x1, x2, x3, x4, xa1, xa2, xa3, xa4):\n",
    "    \"\"\"\n",
    "    Computes the projective transformation (in homogeneous coordinates) that\n",
    "    transforms vectors xi into xai. (The vectors are given in Euclidean\n",
    "    coordinates).\n",
    "    \"\"\"\n",
    "    # YOUR CODE HERE (Replace this and the following line with your code)\n",
    "    raise NotImplementedError()"
   ]
  },
  {
   "cell_type": "markdown",
   "metadata": {},
   "source": [
    "Given 4 points x1, x2, x3 and x4 in the original image F (all given as (2,) shaped arrays) we want to warp the image such that x1 projects to (0,0) in the resulting image, x2 projects to (W-1,0), x3 to (W-1,H-1) and x4 to (0,H-1) where (H,W) is the shape of the resulting image. Probably the flyer lying on the ground is an A4 sheet of paper so something like (H,W) = (800,600) will do.\n",
    "In the function below you have to use the ``skimage.transform.warp`` function. Note that you can use the ``output_shape`` named argument to set the shape of the resulting image. (3pt)"
   ]
  },
  {
   "cell_type": "code",
   "execution_count": null,
   "metadata": {},
   "outputs": [],
   "source": [
    "def projective_transform_image(F, x1, x2, x3, x4, H, W):\n",
    "    # YOUR CODE HERE (Replace this and the following line with your code)\n",
    "    raise NotImplementedError()"
   ]
  },
  {
   "cell_type": "code",
   "execution_count": null,
   "metadata": {},
   "outputs": [],
   "source": [
    "x1 = np.array([570, 186])\n",
    "x2 = np.array([819, 166])\n",
    "x3 = np.array([590, 583])\n",
    "x4 = np.array([350, 552])\n",
    "\n",
    "plt.subplot(121)\n",
    "plt.imshow(F)\n",
    "draw_polygon(quadrilateral(x1, x2, x3, x4), ax=plt.gca())\n",
    "plt.subplot(122)\n",
    "G = projective_transform_image(F, x1, x2, x3, x4, 800, 600)\n",
    "plt.imshow(G);"
   ]
  },
  {
   "cell_type": "code",
   "execution_count": null,
   "metadata": {},
   "outputs": [],
   "source": [
    "pts = [(10, 10), (20, 30), (100, 200)]\n",
    "np.array([G[pt] for pt in pts])"
   ]
  },
  {
   "cell_type": "markdown",
   "metadata": {},
   "source": [
    "## Appendix: Using a Domain Iterator"
   ]
  },
  {
   "cell_type": "markdown",
   "metadata": {},
   "source": [
    "NOTE: this section is not obligatory, it is only included to make the code connection with the lecture notes for those interested in the programming aspects."
   ]
  },
  {
   "cell_type": "markdown",
   "metadata": {},
   "source": [
    "In the lecture notes the source code for the domain iterator is given. The code below is slightly changed to deal with other imports. Although the code for the forward transform now is now looking very much like a pseudo code algorithm, it requires some more abstractions (the domain iterator and the pixel class)"
   ]
  },
  {
   "cell_type": "code",
   "execution_count": null,
   "metadata": {},
   "outputs": [],
   "source": [
    "import itertools\n",
    "\n",
    "class pixel(tuple):\n",
    "    pass\n",
    "\n",
    "class pixel(tuple):\n",
    "    \"\"\"a pixel is just a tuple with some extra methods\"\"\"\n",
    "    def __lt__(self, p):\n",
    "        return all( [a < b for a,b in zip(self, p)] )\n",
    "    \n",
    "    def __le__(self, p):\n",
    "        return all( [a <= b for a,b in zip(self, p)] )\n",
    "    \n",
    "    def isin(self, end, start=pixel((0,0))):\n",
    "        return all( [a<x and x<b for a,b,x in zip(start,end,self)] )\n",
    "\n",
    "    def rint(self):\n",
    "        return pixel([np.rint(a).astype(int) for a in self])\n",
    "    \n",
    "    \n",
    "def domainIterator(end, start=None, step=None):\n",
    "    \"\"\"\n",
    "    Returns an iterator that yields all multi-indices in the range\n",
    "    (start)-(end) with stepsizes (step) in rasterscan order\n",
    "    \"\"\"\n",
    "    if type(end) != np.ndarray:\n",
    "        end = np.array(end);\n",
    "    if start == None:\n",
    "        start = 0*end;\n",
    "    elif type(start) != np.ndarray:\n",
    "        start = np.array(start)\n",
    "    if len(start) != len(end):\n",
    "        raise ValueError(\"start and end should have same length\")\n",
    "    if step != None and type(step) != np.ndarray:\n",
    "        step = np.array(step)\n",
    "\n",
    "    if step is None:\n",
    "        return itertools.product(*[ np.arange(*p) for p in zip(start, end) ])\n",
    "    else:\n",
    "        return itertools.product(*[ np.arange(*p) for p in zip(start, end, step) ])"
   ]
  },
  {
   "cell_type": "markdown",
   "metadata": {},
   "source": [
    "The code for the forward transform is also given in the lecture notes:"
   ]
  },
  {
   "cell_type": "code",
   "execution_count": null,
   "metadata": {},
   "outputs": [],
   "source": [
    "def geoOp_fwd(f, phi):\n",
    "    fdomain = f.shape[:2]\n",
    "    g = np.zeros_like(f)\n",
    "    for p in domainIterator(fdomain):\n",
    "        q = phi(p).rint()\n",
    "        if q.isin(fdomain):\n",
    "            g[q] = f[p]\n",
    "    return g"
   ]
  },
  {
   "cell_type": "code",
   "execution_count": null,
   "metadata": {},
   "outputs": [],
   "source": [
    "def rotator(angle):\n",
    "    \"\"\"a rotator around the origin\"\"\"\n",
    "    ca = np.cos(angle)\n",
    "    sa = np.sin(angle)\n",
    "    R = np.array([[ca, -sa], [sa, ca]])\n",
    "    def rotate(t):\n",
    "        return pixel(R @ np.array(t))\n",
    "    return rotate"
   ]
  },
  {
   "cell_type": "code",
   "execution_count": null,
   "metadata": {},
   "outputs": [],
   "source": [
    "Gsmall_DI = geoOp_fwd(Fsmall, rotator(np.pi/4))\n",
    "plt.imshow(Gsmall_DI);"
   ]
  }
 ],
 "metadata": {
  "celltoolbar": "Create Assignment",
  "kernelspec": {
   "display_name": "Python 3 (ipykernel)",
   "language": "python",
   "name": "python3"
  },
  "language_info": {
   "codemirror_mode": {
    "name": "ipython",
    "version": 3
   },
   "file_extension": ".py",
   "mimetype": "text/x-python",
   "name": "python",
   "nbconvert_exporter": "python",
   "pygments_lexer": "ipython3",
   "version": "3.10.12"
  },
  "latex_envs": {
   "LaTeX_envs_menu_present": true,
   "autoclose": false,
   "autocomplete": true,
   "bibliofile": "biblio.bib",
   "cite_by": "apalike",
   "current_citInitial": 1,
   "eqLabelWithNumbers": true,
   "eqNumInitial": 1,
   "hotkeys": {
    "equation": "Ctrl-E",
    "itemize": "Ctrl-I"
   },
   "labels_anchors": false,
   "latex_user_defs": false,
   "report_style_numbering": true,
   "user_envs_cfg": false
  }
 },
 "nbformat": 4,
 "nbformat_minor": 4
}
