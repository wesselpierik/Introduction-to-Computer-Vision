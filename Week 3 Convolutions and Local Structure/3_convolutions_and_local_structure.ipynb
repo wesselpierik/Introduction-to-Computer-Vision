{
 "cells": [
  {
   "cell_type": "markdown",
   "id": "heard-monthly",
   "metadata": {},
   "source": [
    "# Assignment 3: Convolutions and local structure\n",
    "\n",
    "## Working with notebooks\n",
    "\n",
    "The assignments for this week are given in this notebook. An additional notebook with examples is provided as well. Only this notebook will be graded.\n",
    "\n",
    "**Always use `Kernel > Restart & Run All` and check the results before handing in your assignment**.\n",
    "\n",
    "Some general tips:\n",
    "\n",
    "- Avoid using packages that are not already imported in the assignment template, and are not default Python packages.\n",
    "- Avoid using \"notebook magic\" like `%matplotlib inline`; such commands do not work when the notebook is converted to a Python script.\n",
    "\n",
    "## Working with Codegrade\n",
    "\n",
    "The assignments for this course are (partly) automatically graded by a system called *Codegrade*. Our tests will run on your code automatically, and give grades based purely on the correctness of the output.\n",
    "\n",
    "Some of the Codegrade tests will be run immediately, and you can view the output/results before the deadline (it may take a couple of minutes to show up). Use this to check that your code is working correctly, and that you are in the right direction for the assignments."
   ]
  },
  {
   "cell_type": "code",
   "execution_count": null,
   "id": "linear-storm",
   "metadata": {},
   "outputs": [],
   "source": [
    "import numpy as np\n",
    "import matplotlib.pyplot as plt\n",
    "import wget\n",
    "from scipy.ndimage.filters import convolve\n",
    "from scipy.ndimage import uniform_filter\n",
    "import mpl_toolkits.mplot3d.art3d as art3d\n",
    "\n",
    "np.set_printoptions(precision=3,\n",
    "                    suppress=True) # change this in case you need more precision\n",
    "\n",
    "def imshow_row(imttllist, axs=False):\n",
    "    n = len(imttllist)\n",
    "    for i, imttl in enumerate(imttllist):\n",
    "        if imttl is None:\n",
    "            continue\n",
    "        im, ttl = imttl\n",
    "        plt.subplot(1,n,i+1)\n",
    "        plt.imshow(im, cmap='gray')\n",
    "        if not axs:\n",
    "            plt.axis('off')\n",
    "        plt.title(ttl)\n",
    "    \n",
    "def plot_stems3d(ax, x, y, z):\n",
    "    for xi, yi, zi in zip(x.flatten(), y.flatten(), z.flatten()):  \n",
    "        line=art3d.Line3D(*zip((xi, yi, 0), (xi, yi, zi)), marker='o', markevery=(1, 1))\n",
    "        ax.add_line(line)\n",
    "    ax.set_xlim3d(X.min(), X.max())\n",
    "    ax.set_ylim3d(Y.min(), Y.max())\n",
    "    ax.set_zlim3d(np.minimum(G.min(), 0), np.maximum(G.max(),0))\n",
    "\n",
    "    \n",
    "try:\n",
    "    Fcam = plt.imread('cameraman.png')\n",
    "except FileNotFoundError:\n",
    "    wget.download(\"https://staff.fnwi.uva.nl/r.vandenboomgaard/ComputerVision/_images/cameraman.png\")\n",
    "    Fcam = plt.imread('cameraman.png')"
   ]
  },
  {
   "cell_type": "markdown",
   "id": "divine-jenny",
   "metadata": {},
   "source": [
    "## Exercise 1: Separable Convolutions\n",
    "\n",
    "In the code cell below you have to time the three versions of the uniform convolution for values of N in ``sizes = np.array([3,5,7,9,11,15,19,25,31])``. You can use the ``timeit`` Python package for timing purposes (**set ``number=10`` and ``globals=globals()``**). You should present the timing results in *one* plot, clearly labelling the three versions and the axes. Then, answer the questions below.\n",
    "\n",
    "Note: this particular exercise is not autograded."
   ]
  },
  {
   "cell_type": "code",
   "execution_count": null,
   "id": "successful-optimum",
   "metadata": {},
   "outputs": [],
   "source": [
    "try:\n",
    "    Fcam = plt.imread('cameraman.png')\n",
    "except FileNotFoundError:\n",
    "    wget.download(\"https://staff.fnwi.uva.nl/r.vandenboomgaard/ComputerVision/_images/cameraman.png\")\n",
    "    Fcam = plt.imread('cameraman.png')\n",
    "\n",
    "from scipy.ndimage import uniform_filter\n",
    "import timeit\n",
    "sizes = np.array([3, 5, 7, 9, 11, 15, 19, 25, 31])\n",
    "\n",
    "def profile_function(sizes, function):\n",
    "    times = np.zeros_like(sizes, dtype=np.float64)\n",
    "    for i, size in enumerate(sizes):\n",
    "        times[i] = timeit.timeit(lambda: function(size), number=10, globals=globals())\n",
    "    return times\n",
    "\n",
    "time_7x7 = profile_function(sizes, lambda size: convolve(Fcam, np.ones((size, size))))\n",
    "time_sep_7 = profile_function(sizes, lambda size: convolve(convolve(Fcam, np.ones((size, 1))), np.ones((1, size))))\n",
    "time_scipy = profile_function(sizes, lambda size: uniform_filter(Fcam, size))\n",
    "plt.subplot(121)\n",
    "plt.plot(sizes, time_7x7, label=r'$F\\ast W_{7\\times7}$')\n",
    "plt.plot(sizes, time_sep_7, label=r'$(F\\ast W_{7\\times1})\\ast W_{1\\times7}$')\n",
    "plt.plot(sizes, time_scipy, label=\"uniform_filter(F, 7)\")\n",
    "plt.legend()\n",
    "plt.subplot(122)\n",
    "plt.plot(sizes, time_sep_7)\n",
    "plt.plot(sizes, time_scipy)\n",
    "plt.show();"
   ]
  },
  {
   "cell_type": "markdown",
   "id": "sacred-liabilities",
   "metadata": {},
   "source": [
    "**Questions.**\n",
    "\n",
    "1. Comment on the timing diagrams (are they showing the expected behaviour?)\n",
    "\n",
    "2. The timing of the ``uniform_filter`` should be surprising (hint: plot the timing diagrams for the separable convolution and the ``uniform_filter`` in one plot to see the difference more clearly) . Comment on this as well. What do you think is done to reach this performance?"
   ]
  },
  {
   "cell_type": "markdown",
   "id": "innocent-creator",
   "metadata": {},
   "source": [
    "Yes, since for the larger kernels, the naive implementation with the complete kernel is much slower than the faster implementation with the splitted kernels. And since scipy is optimized for convolutions, it is faster than an implementation with Python overhead."
   ]
  },
  {
   "cell_type": "markdown",
   "id": "pharmaceutical-retreat",
   "metadata": {},
   "source": [
    "## Exercise 2: Impulse responses\n",
    "\n",
    "The following filters from ``scipy.ndimage`` are all linear translation invariant filters:\n",
    " - sobel\n",
    " - laplace\n",
    " - prewitt\n",
    " - gaussian_laplace\n",
    "\n",
    "Some of these functions have parameters that result in different kernels being used.\n",
    "\n",
    "For each of these filter determine the impulse response. Return the impulse response function but only the smallest square part of the image centered at the middle showing non-zero responses. I.e. for the impulse response of the uniform filter of size 7x7 you should return a 7x7 array with all values 0.02 (remember we have set the number of digits to two...)."
   ]
  },
  {
   "cell_type": "code",
   "execution_count": null,
   "id": "statistical-bachelor",
   "metadata": {},
   "outputs": [],
   "source": [
    "from scipy.ndimage import sobel, laplace, prewitt, gaussian_laplace\n",
    "\n",
    "def sobel_filter():\n",
    "    array = np.zeros((3,3))\n",
    "    array[1,1] = 1\n",
    "    return sobel(array)\n",
    "\n",
    "def laplace_filter():\n",
    "    array = np.zeros((3, 3))\n",
    "    array[1,1] = 1\n",
    "    return laplace(array)\n",
    "\n",
    "def prewitt_filter():\n",
    "    array = np.zeros((3,3))\n",
    "    array[1,1] = 1\n",
    "    return prewitt(array)\n",
    "\n",
    "def gaussian_laplace_filter():\n",
    "    array = np.zeros((9,9))\n",
    "    array[4,4] = 1\n",
    "    return gaussian_laplace(array, 1)"
   ]
  },
  {
   "cell_type": "markdown",
   "id": "parental-principle",
   "metadata": {},
   "source": [
    "To understand what these filters do, also run the filters on the cameraman image (or any other image of your liking). What do you expect to do, or have read the filter is supposed to do?"
   ]
  },
  {
   "cell_type": "markdown",
   "id": "bright-baghdad",
   "metadata": {},
   "source": [
    "## Exercise 3: Impulse responses\n",
    "\n",
    "Given only the right and left first order derivative filters (from a previous section) with convolution kernels\n",
    "   ``{1 -1 0}`` and ``{0 1 -1}`` both in horizontal direction as well as in vertical direction, can you make the laplace filter using only these four first order derivatives? Hint: first write the impulse response function as the addition of a horizontal function and a vertical function. (Answer in code in the cell below this one: use the definitions given in the cell below, as well as the function `convolve`, to define the Laplace filter.)"
   ]
  },
  {
   "cell_type": "code",
   "execution_count": null,
   "id": "victorian-mining",
   "metadata": {},
   "outputs": [],
   "source": [
    "def laplace_derivatives(I):\n",
    "    \"\"\"\n",
    "    Using only the convolve function and these four filters, compute the laplace filter of I.\n",
    "    \"\"\"\n",
    "    Dleft = np.array([[ 0,  1, -1]])\n",
    "    Dright = np.array([[ 1, -1,  0]])\n",
    "    Dup = Dleft.T\n",
    "    Ddown = Dright.T\n",
    "\n",
    "    kernel_horizontal = np.vstack(([0, 0, 0], Dright - Dleft, [0, 0, 0]))\n",
    "    kernel_vertical = kernel_horizontal.T\n",
    "\n",
    "    complete = kernel_horizontal + kernel_vertical\n",
    "\n",
    "    return convolve(I, complete)"
   ]
  },
  {
   "cell_type": "markdown",
   "id": "molecular-duplicate",
   "metadata": {},
   "source": [
    "## Exercise 4: Anaytical derivatives\n",
    "\n",
    "Consider the function $f$ in two variables:\n",
    "\\begin{align}\n",
    "f(x,y) = A\\sin(Vx) + B\\cos(Wy)\n",
    "\\end{align}\n",
    "\n",
    "We set the following values for the constants $A$, $B$, $V$ and $W$:\n",
    "\\begin{align}\n",
    "A &= 1\\\\\n",
    "B &= 2\\\\\n",
    "V &= \\frac{6\\pi}{100}\\\\\n",
    "W &= \\frac{4\\pi}{100}\n",
    "\\end{align}"
   ]
  },
  {
   "cell_type": "markdown",
   "id": "sixth-visiting",
   "metadata": {},
   "source": [
    "In the cell below write the code to generate the discrete images (sampled functions) ``F``, ``Fx`` and ``Fy``. Here ``F`` is the sampled version (on the grid defined by ``X`` and ``Y``) of $f$, ``Fx`` and ``Fy`` are the sampled versions of $f_x$ and $f_y$ respectively. Also plot the three images in a row (you can use the ``imshow_row`` for this). (2p)"
   ]
  },
  {
   "cell_type": "code",
   "execution_count": null,
   "id": "thick-morning",
   "metadata": {},
   "outputs": [],
   "source": [
    "def F_partial_derivatives(X, Y):\n",
    "    A = 1\n",
    "    B = 2\n",
    "    V = 6 * np.pi / 100\n",
    "    W = 4 * np.pi / 100\n",
    "\n",
    "    F = A * np.sin(V * X) + B * np.cos(W * Y)\n",
    "    Fx = A * V * np.cos(V * X)\n",
    "    Fy = -B * W * np.sin(W * Y)\n",
    "\n",
    "    return F, Fx, Fy\n"
   ]
  },
  {
   "cell_type": "code",
   "execution_count": null,
   "id": "requested-harvard",
   "metadata": {},
   "outputs": [],
   "source": [
    "x = np.arange(-50,51)\n",
    "y = np.arange(-50,51)\n",
    "X, Y = np.meshgrid(x, y)\n",
    "\n",
    "F, Fx, Fy = F_partial_derivatives(X, Y)\n",
    "imshow_row([(F, r\"$f$\"),\n",
    "            (Fx, r\"$f_x$\"),\n",
    "            (Fy, r\"$f_y$\")])\n",
    "plt.gray()\n",
    "\n",
    "print(Fx[10, 20])\n",
    "print(Fy[10, 20])"
   ]
  },
  {
   "cell_type": "markdown",
   "id": "pending-prisoner",
   "metadata": {},
   "source": [
    "Test your implemantation using the following code."
   ]
  },
  {
   "cell_type": "code",
   "execution_count": null,
   "id": "dedicated-hampshire",
   "metadata": {},
   "outputs": [],
   "source": [
    "assert F.shape == Fx.shape == Fy.shape == (101, 101)\n",
    "\n",
    "assert np.isclose(F[10, 20], 1.2058192410423678)\n",
    "assert np.isclose(Fx[10, 20], 0.15249611076945777)\n",
    "assert np.isclose(Fy[10, 20], -0.2390265731793245)"
   ]
  },
  {
   "cell_type": "code",
   "execution_count": null,
   "id": "illegal-chess",
   "metadata": {},
   "outputs": [],
   "source": [
    "xx = x[::5]\n",
    "yy = y[::5]\n",
    "XX = X[::5, ::5]\n",
    "YY = Y[::5, ::5]\n",
    "FFx = Fx[::5, ::5]\n",
    "FFy = Fy[::5, ::5]\n",
    "plt.imshow(F, extent=(-50, 50, 50, -50), origin='upper')\n",
    "plt.quiver( xx, yy, FFx, FFy, color='red', angles='xy' );"
   ]
  },
  {
   "cell_type": "markdown",
   "id": "terminal-duration",
   "metadata": {},
   "source": [
    "Observe that the gradient vectors plotted starting in the points of less dense grid (defined by ``XX`` and ``YY``) and if all is well should point in the direction of the maximal increase in the function value (i.e. towards the centers of the bright white spots)."
   ]
  },
  {
   "cell_type": "markdown",
   "id": "requested-guatemala",
   "metadata": {},
   "source": [
    "## Exercise 5: Finite Difference Derivatives\n",
    "\n",
    "Consider the function $f$ in two variables:\n",
    "\n",
    "\\begin{align}\n",
    "f(x,y) = 3(1-x)^2 \\exp\\left(-x^2 - (y-1)^2\\right)\n",
    " - 10\\left(\\frac{x}{5} - x^3 - y^5\\right) \\exp\\left(-x^2 - y^2\\right) \n",
    " - \\frac{1}{3} \\exp\\left(-(x+1)^2 - y^2\\right)\n",
    " \\end{align}\n",
    " \n",
    "In the cell below you should approximate the partial derivatives (call the variables ``Fxml`` and ``Fyml``) using finite difference convolutions"
   ]
  },
  {
   "cell_type": "code",
   "execution_count": null,
   "id": "muslim-green",
   "metadata": {},
   "outputs": [],
   "source": [
    "import scipy.ndimage # Contains the convolve function.\n",
    "\n",
    "def finite_difference_derivatives(Xml, Yml):\n",
    "    \"\"\"\n",
    "    Given a grid Xml, Yml (in the output format of np.meshgrid), compute (using finite difference convolutions):\n",
    "    \n",
    "    Fml (given): the value of the function f on the grid.\n",
    "    Fxml: the deriviative in the x direction.\n",
    "    Fyml: the derivative in the y direction.\n",
    "    \n",
    "    Return Fml, Fxml, Fyml.\n",
    "    \"\"\"\n",
    "    Fml = 3 * (1-Xml)**2 * np.exp(-(Xml**2) - (Yml+1)**2) \\\n",
    "        - 10 * (Xml/5 - Xml**3 - Yml**5) * np.exp(-Xml**2 - Yml**2) \\\n",
    "        - 1/3 * np.exp(-(Xml+1)**2 - Yml**2)\n",
    "    \n",
    "    kernel = np.array([[0, 0, 0], [0, 1, -1], [0, 0, 0]])\n",
    "    Fxml = convolve(Fml, kernel)\n",
    "    Fyml = convolve(Fml, kernel.T)\n",
    "\n",
    "    return Fml, Fxml, Fyml\n"
   ]
  },
  {
   "cell_type": "markdown",
   "id": "universal-frost",
   "metadata": {},
   "source": [
    "Test your implemantation using the following code."
   ]
  },
  {
   "cell_type": "code",
   "execution_count": null,
   "id": "interim-kingston",
   "metadata": {},
   "outputs": [],
   "source": [
    "xml = np.linspace(-3, 3, 150)\n",
    "yml = np.linspace(-3, 3, 150)\n",
    "Xml, Yml = np.meshgrid(xml, yml)\n",
    "Fml, Fxml, Fyml = finite_difference_derivatives(Xml, Yml)\n",
    "\n",
    "imshow_row([(Fxml, r\"$f_x$\"), (Fyml, r\"$f_y$\")])\n",
    "\n",
    "assert Fxml.shape == Fyml.shape == (150, 150)\n",
    "assert np.isclose(Fxml[50, 60], -0.04245716117236498)\n",
    "assert np.isclose(Fyml[50, 60], 0.29461883737214256)"
   ]
  },
  {
   "cell_type": "markdown",
   "id": "twenty-tower",
   "metadata": {},
   "source": [
    "The code below then should plot the gradient vectors in a sparse grid overlayed on top of the image ``Fml``."
   ]
  },
  {
   "cell_type": "code",
   "execution_count": null,
   "id": "agricultural-grove",
   "metadata": {},
   "outputs": [],
   "source": [
    "xxml = xml[::5]\n",
    "yyml = yml[::5]\n",
    "XXml = Xml[::5, ::5]\n",
    "YYml = Yml[::5, ::5]\n",
    "FFxml = Fxml[::5, ::5]\n",
    "FFyml = Fyml[::5, ::5]\n",
    "plt.imshow(Fml, extent=(-3, 3, 3, -3), origin='upper')\n",
    "plt.quiver(xxml, yyml, FFxml, FFyml, color='red', angles='xy');"
   ]
  },
  {
   "cell_type": "markdown",
   "id": "following-laundry",
   "metadata": {},
   "source": [
    "## Exercise 6: Gaussian 2D function\n",
    "\n",
    "The 2D Gaussian function $G^s(x,y)$ is defined as:\n",
    "\\begin{align}\n",
    "G^s(x,y) = \\frac{1}{s\\sqrt{2\\pi}} e^{-\\frac{x^2+y^2}{2 s^2}}\n",
    "\\end{align}\n",
    "\n",
    "The function ``Gauss2d(scale, factor)`` should a return a tuple ``(X, Y, G)`` where ``X, Y`` are the 2D grid arrays generated with the ``np.meshgrid`` function and ``G`` is the sampled Gaussian function.\n",
    "\n",
    "The Gauss kernel should be **normalized** in such a way that at each point in the image it calculates a weighted average of its neighbor points. (2p)"
   ]
  },
  {
   "cell_type": "code",
   "execution_count": null,
   "id": "interior-prediction",
   "metadata": {},
   "outputs": [],
   "source": [
    "def Gauss2d(scale, factor):\n",
    "    # If we take N = ceil(scale*factor), then a 2N+1 x 2N + 1 filter is a good size for the grid.\n",
    "    N = np.ceil(scale * factor).astype(int)\n",
    "\n",
    "    X = np.arange(-N, N + 1)\n",
    "    Y = np.arange(-N, N + 1)\n",
    "    X, Y = np.meshgrid(X, Y)\n",
    "    G = (\n",
    "        (1 / (scale * np.sqrt(2 * np.pi)))\n",
    "        * np.exp(-(X**2 + Y**2) / (2 * scale**2))\n",
    "        / scale\n",
    "    )\n",
    "\n",
    "    G = G / np.sum(G)\n",
    "\n",
    "    return X, Y, G"
   ]
  },
  {
   "cell_type": "markdown",
   "id": "random-mainstream",
   "metadata": {},
   "source": [
    "Test your implemantation using the following code."
   ]
  },
  {
   "cell_type": "code",
   "execution_count": null,
   "id": "verified-fundamental",
   "metadata": {},
   "outputs": [],
   "source": [
    "X, Y, G = Gauss2d(3.7, 1.4)\n",
    "fig = plt.figure(99)\n",
    "ax1 = fig.add_subplot(121)\n",
    "ax1.imshow(G);\n",
    "ax2 = fig.add_subplot(122, projection='3d')\n",
    "plot_stems3d(ax2, X, Y, G)"
   ]
  },
  {
   "cell_type": "code",
   "execution_count": null,
   "id": "swedish-nation",
   "metadata": {},
   "outputs": [],
   "source": [
    "X, Y, G = Gauss2d(3.7, 1.4)\n",
    "assert X.shape == Y.shape == G.shape == (13, 13)\n",
    "assert np.isclose(np.sum(G), 1)\n",
    "assert X[1,4] == -2\n",
    "assert Y[1,4] == -5\n",
    "assert np.isclose(G[1,4], 0.004742521299253816)"
   ]
  },
  {
   "cell_type": "markdown",
   "id": "distributed-opera",
   "metadata": {},
   "source": [
    "## Exercise 7: 1D Gaussian function\n",
    "\n",
    "\n",
    "Using the calculated partial derivatives, now write the code for the ``Gauss1D`` function (and your derivatives will be tested then). (3p)"
   ]
  },
  {
   "cell_type": "code",
   "execution_count": null,
   "id": "protecting-inspector",
   "metadata": {},
   "outputs": [],
   "source": [
    "def Gauss1d(scale, order=0, factor=3):\n",
    "    \"\"\"If order=0, this function should give a normalized sample of the 1d Gaussian function,\n",
    "    similar to the Gauss2d function above. If order=1 or order=2, this function should give an\n",
    "    approximation for the first respectively second derivative by multiplying this sample by the\n",
    "    appropriate analytically determined polynomial (see guide notebook).\"\"\"\n",
    "    N = np.ceil(scale * factor).astype(int)\n",
    "\n",
    "    X = np.arange(- N, N + 1)\n",
    "    ### YOUR CODE HERE\n",
    "    G = (1 / (scale * np.sqrt(2 * np.pi))) * np.exp(-(X**2) / (2 * scale**2))\n",
    "    G = G / np.sum(G)\n",
    "    if order == 0:\n",
    "        G = G /  np.sum(G)\n",
    "        return X, G\n",
    "    if order == 1:\n",
    "        G = -X * G / scale ** 2\n",
    "        return X, G\n",
    "    if order == 2:\n",
    "        G = (X**2 - scale**2) / scale**4 * G\n",
    "        return X, G"
   ]
  },
  {
   "cell_type": "markdown",
   "id": "excessive-consequence",
   "metadata": {},
   "source": [
    "Test your implemantation using the following code."
   ]
  },
  {
   "cell_type": "code",
   "execution_count": null,
   "id": "annoying-shell",
   "metadata": {},
   "outputs": [],
   "source": [
    "x0, G0 = Gauss1d(1.5, 0, 5)\n",
    "x1, G1 = Gauss1d(1.5, 1, 5)\n",
    "x2, G2 = Gauss1d(1.5, 2, 5)\n",
    "assert x0.shape == G0.shape == (17,)\n",
    "assert (x0 == x1).all() and (x1 == x2).all()\n",
    "assert np.isclose(np.sum(G0), 1)\n",
    "assert np.isclose(G0[4], 0.0075973240783234215)\n",
    "assert np.isclose(G1[4], 0.013506353917019416)\n",
    "assert np.isclose(G2[4], 0.020634707373224107)"
   ]
  },
  {
   "cell_type": "code",
   "execution_count": null,
   "id": "future-invasion",
   "metadata": {},
   "outputs": [],
   "source": [
    "s = 1.5\n",
    "factor = 5\n",
    "x, G3 = Gauss1d(s, order=0, factor=factor)\n",
    "plt.plot(x, G3, '.-')\n",
    "x, G3x = Gauss1d(s, order=1, factor=factor)\n",
    "x, G3xx = Gauss1d(s, order=2, factor=factor)\n",
    "plt.axhline() # the x-axis\n",
    "plt.plot(x, G3x, '.-');\n",
    "plt.plot(x, G3xx, '.-');"
   ]
  },
  {
   "cell_type": "markdown",
   "id": "juvenile-lesbian",
   "metadata": {},
   "source": [
    "## Exercise 8: Gaussian (Derivative) Convolution\n",
    "\n",
    "Use the function ``Gauss1d`` and ``convolve1d`` to implement the ``gD`` function:"
   ]
  },
  {
   "cell_type": "code",
   "execution_count": null,
   "id": "future-bristol",
   "metadata": {},
   "outputs": [],
   "source": [
    "from scipy.ndimage import convolve1d\n",
    "\n",
    "\n",
    "def gD(f, scales, orders, factor=3, mode=\"nearest\", cval=0):\n",
    "    \"\"\"\n",
    "    f: the function to convolve\n",
    "    scales: the scales in the x and y direction, respectively\n",
    "    orders: the orders of the derivatives (0 <= order <= 2)\n",
    "    factor: the factor with which you compute the scale to get the size of the domain.\n",
    "    mode, cval: the border mode to use in the convolution, and the constant value in case the mode is `constant`.\n",
    "\n",
    "    returns: the convolution of f with the appropriate Gaussian derivative.\n",
    "    \"\"\"\n",
    "\n",
    "    ### YOUR CODE HERE\n",
    "    _, gauss_kernel_horizontal = Gauss1d(scales[0], orders[0], factor)\n",
    "    _, gauss_kernel_vertical = Gauss1d(scales[1], orders[1], factor)\n",
    "\n",
    "    return convolve1d(\n",
    "        convolve1d(f, gauss_kernel_horizontal, axis=0, mode=mode, cval=cval),\n",
    "        gauss_kernel_vertical,\n",
    "        axis=1,\n",
    "        mode=mode,\n",
    "        cval=cval,\n",
    "    )"
   ]
  },
  {
   "cell_type": "markdown",
   "id": "ready-chocolate",
   "metadata": {},
   "source": [
    "Test your implemantation using the following code."
   ]
  },
  {
   "cell_type": "code",
   "execution_count": null,
   "id": "typical-consortium",
   "metadata": {},
   "outputs": [],
   "source": [
    "F = np.array([[65, 13, 15, 18, 69, 39, 38, 19, 61,  5],\n",
    "       [55, 35, 12, 96, 95, 98, 80,  2, 86, 22],\n",
    "       [41, 39, 91, 33, 68, 52, 18, 46, 82, 16],\n",
    "       [96, 48, 57, 28, 79, 10, 84, 18, 46, 92],\n",
    "       [41, 70, 32, 59, 15, 48, 58, 96, 88, 99],\n",
    "       [78, 48, 26, 68, 56, 97, 79, 19, 55, 59],\n",
    "       [80,  6, 54, 93, 10, 28, 10, 69, 25, 27],\n",
    "       [44, 33, 25, 73, 92, 41, 15, 23, 78,  9],\n",
    "       [ 3, 48,  0, 69,  6, 82, 33, 59, 22, 28],\n",
    "       [66, 94, 18, 17, 13, 73, 16, 18, 25, 64]]).astype(np.float64)\n",
    "F01 = gD(F, (3.5, 3.5), (0, 1), 3)\n",
    "F21 = gD(F, (2.5, 2.5), (2, 1), 3)\n",
    "assert F01.shape == F21.shape == (10, 10)\n",
    "assert np.isclose(F01[4, 5], -0.6600031308571785)\n",
    "assert np.isclose(F21[6, 3], -0.1254832128531149)"
   ]
  },
  {
   "cell_type": "code",
   "execution_count": null,
   "id": "interesting-feature",
   "metadata": {},
   "outputs": [],
   "source": [
    "# Show the derivatives by convolving with an impulse.\n",
    "I = np.zeros((21,21))\n",
    "I[10, 10] = 1\n",
    "G3 = gD(I, (3,3), (0,0), 3)\n",
    "imshow_row([ (G3, r\"$G^3$\"), None, None])\n",
    "\n",
    "plt.figure()\n",
    "Gx3 = gD(I, (3,3), (0,1), 3)\n",
    "Gy3 = gD(I, (3,3), (1,0), 3)\n",
    "imshow_row([ (Gx3, r\"$G^3_x$\"), (Gy3, r\"$G^3_y$\"), None])\n",
    "\n",
    "plt.figure()\n",
    "Gxx3 = gD(I, (3,3), (0,2), 3)\n",
    "Gxy3 = gD(I, (3,3), (1,1), 3)\n",
    "Gyy3 = gD(I, (3,3), (2,0), 3)\n",
    "imshow_row([ (Gxx3, r\"$G^3_{xx}$\"), \n",
    "             (Gxy3, r\"$G^3_{xy}$\"),\n",
    "             (Gyy3, r\"$G^3_{yy}$\")])\n"
   ]
  },
  {
   "cell_type": "code",
   "execution_count": null,
   "id": "subject-requirement",
   "metadata": {},
   "outputs": [],
   "source": [
    "s = 1\n",
    "fs = gD(Fcam, (s,s), (0,0), 3)\n",
    "imshow_row([ (fs, r\"$f\\ast G^{%5.2f}$\" % s), None, None])\n",
    "\n",
    "plt.figure()\n",
    "fxs = gD(Fcam, (s,s), (0,1), 3)\n",
    "fys = gD(Fcam, (s,s), (1,0), 3)\n",
    "imshow_row([(fxs, r\"$f\\ast G^{%5.2f}_x$\" % s), \n",
    "            (fys, r\"$f\\ast G^{%5.2f}_y$\" % s), \n",
    "            None])\n",
    "\n",
    "plt.figure()\n",
    "fxxs = gD(Fcam, (s,s), (0,2), 3)\n",
    "fxys = gD(Fcam, (s,s), (1,1), 3)\n",
    "fyys = gD(Fcam, (s,s), (2,0), 3)\n",
    "imshow_row([ (fxxs, r\"$f\\ast G^{%5.2f}_{xx}$\" % s), \n",
    "             (fxys, r\"$f\\ast G^{%5.2f}_{xy}$\" % s),\n",
    "             (fyys, r\"$f\\ast G^{%5.2f}_{yy}$\" % s)])\n"
   ]
  },
  {
   "cell_type": "markdown",
   "id": "discrete-tampa",
   "metadata": {},
   "source": [
    "## Exercise 9: Canny Edge Detector\n",
    "\n",
    "Implement the Canny edge detector using the ``gD`` function that you have implemented in previous sections.\n",
    "\n",
    "The result of the function ``E = canny(F, s)`` should be an image ``E`` where the value in a pixel equals the gradient norm (in that pixel) in case it is an edge pixel and zero otherwise.\n",
    "\n",
    "To find the zero crossings in an image you can write a simple function that looks in each 3x3 neighborhood of a pixel whether there are both negative and positive values on opposite sides of the central pixel. This is not a perfect solution but it does the job quite well. The ``generic_filter`` function can be of help here.\n",
    "\n",
    "Test your canny function on the camereman image. Show the results for several scales used in the derivatives calculations, and comment on your results and the differences.."
   ]
  },
  {
   "cell_type": "code",
   "execution_count": null,
   "id": "linear-weight",
   "metadata": {},
   "outputs": [],
   "source": [
    "from scipy.ndimage import generic_filter\n",
    "from matplotlib.pylab import hypot\n",
    "\n",
    "\n",
    "def zero_crossing(nbh):\n",
    "    \"\"\"\n",
    "    Takes a 3x3 neighborhood of a point given as a 1D array with 9 elements, and\n",
    "    determines whether that point is a zero crossing. (Input as a 1D array, since\n",
    "    this is the format used by generic_filter.)\n",
    "    \"\"\"\n",
    "    f1, f2, f3, f4, f5, f6, f7, f8, f9 = nbh\n",
    "    if f1 * f9 < 0:\n",
    "        return 1\n",
    "    if f2 * f8 < 0:\n",
    "        return 1\n",
    "    if f3 * f7 < 0:\n",
    "        return 1\n",
    "    if f4 * f6 < 0:\n",
    "        return 1\n",
    "    return 0\n",
    "\n",
    "\n",
    "def canny(F, scale):\n",
    "    x = gD(F, (scale, scale), (0, 1))\n",
    "    y = gD(F, (scale, scale), (1, 0))\n",
    "    cannied = np.sqrt(x**2 + y**2)\n",
    "    xx = gD(F, (scale, scale), (2, 0))\n",
    "    yy = gD(F, (scale, scale), (0, 2))\n",
    "    xy = gD(F, (scale, scale), (1, 1))\n",
    "    zero_cross = np.multiply(x**2, xx) + 2 * np.multiply(np.multiply(x, y), xy) + np.multiply(y**2, yy)\n",
    "    return cannied * generic_filter(zero_cross, zero_crossing, (3, 3))"
   ]
  },
  {
   "cell_type": "code",
   "execution_count": null,
   "id": "d9d0b86d",
   "metadata": {},
   "outputs": [],
   "source": [
    "F = plt.imread('cameraman.png')\n",
    "zc1 = canny(F, 1)\n",
    "zc2 = canny(F, 2)\n",
    "zc4 = canny(F, 4)\n",
    "zc8 = canny(F, 8)\n",
    "\n",
    "imshow_row([(zc1, \"Canny (s=1)\"),\n",
    "            (zc2, \"Canny (s=2)\")])\n",
    "plt.figure()\n",
    "imshow_row([(zc4, \"Canny (s=4)\"),\n",
    "            (zc8, \"Canny (s=8)\")])"
   ]
  }
 ],
 "metadata": {
  "kernelspec": {
   "display_name": "Python 3",
   "language": "python",
   "name": "python3"
  },
  "language_info": {
   "codemirror_mode": {
    "name": "ipython",
    "version": 3
   },
   "file_extension": ".py",
   "mimetype": "text/x-python",
   "name": "python",
   "nbconvert_exporter": "python",
   "pygments_lexer": "ipython3",
   "version": "3.10.12"
  }
 },
 "nbformat": 4,
 "nbformat_minor": 5
}
